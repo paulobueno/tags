{
 "cells": [
  {
   "cell_type": "markdown",
   "metadata": {
    "deletable": true,
    "editable": true
   },
   "source": [
    "# Transfer Learning on Stack Exchange Tags\n",
    "## Kaggle competition\n",
    "https://www.kaggle.com/c/transfer-learning-on-stack-exchange-tags"
   ]
  },
  {
   "cell_type": "code",
   "execution_count": 52,
   "metadata": {
    "collapsed": false,
    "deletable": true,
    "editable": true
   },
   "outputs": [],
   "source": [
    "import pandas as pd\n",
    "from bs4 import BeautifulSoup\n",
    "from nltk.corpus import stopwords\n",
    "import csv"
   ]
  },
  {
   "cell_type": "code",
   "execution_count": 2,
   "metadata": {
    "collapsed": false,
    "deletable": true,
    "editable": true
   },
   "outputs": [
    {
     "data": {
      "text/html": [
       "<div>\n",
       "<table border=\"1\" class=\"dataframe\">\n",
       "  <thead>\n",
       "    <tr style=\"text-align: right;\">\n",
       "      <th></th>\n",
       "      <th>id</th>\n",
       "      <th>title</th>\n",
       "      <th>content</th>\n",
       "      <th>tags</th>\n",
       "    </tr>\n",
       "  </thead>\n",
       "  <tbody>\n",
       "    <tr>\n",
       "      <th>0</th>\n",
       "      <td>1</td>\n",
       "      <td>What is the criticality of the ribosome binding site relative to the start codon in prokaryotic translation?</td>\n",
       "      <td>&lt;p&gt;In prokaryotic translation, how critical for efficient translation is the location of the ribosome binding site, relative to the start codon?&lt;/p&gt;\\n\\n&lt;p&gt;Ideally, it is supposed to be -7b away from the start. How about if it is -9 bases away or even more? Will this have an observable effect on translation?&lt;/p&gt;\\n</td>\n",
       "      <td>ribosome binding-sites translation synthetic-biology</td>\n",
       "    </tr>\n",
       "    <tr>\n",
       "      <th>1</th>\n",
       "      <td>2</td>\n",
       "      <td>How is RNAse contamination in RNA based experiments prevented?</td>\n",
       "      <td>&lt;p&gt;Does anyone have any suggestions to prevent RNAse contamination when working with RNA?&lt;/p&gt;\\n\\n&lt;p&gt;I tend to have issues with degradation regardless of whether I use DEPC treated / RNAse free water and filtered pipette tips.&lt;/p&gt;\\n</td>\n",
       "      <td>rna biochemistry</td>\n",
       "    </tr>\n",
       "    <tr>\n",
       "      <th>2</th>\n",
       "      <td>3</td>\n",
       "      <td>Are lymphocyte sizes clustered in two groups?</td>\n",
       "      <td>&lt;p&gt;Tortora writes in &lt;em&gt;Principles of Anatomy and Physiology&lt;/em&gt;:&lt;/p&gt;\\n\\n&lt;blockquote&gt;\\n  &lt;p&gt;Lymphocytes may be as small as 6–9 μm in diameter or as large as 10–14 μm in diameter.&lt;/p&gt;\\n&lt;/blockquote&gt;\\n\\n&lt;p&gt;Those ranges are quite close to each others. Should the above be taken to mean that lymphocytes sizes are clustered in two groups, or is it just a way of saying that lymphocytes are 6-14 μm?&lt;/p&gt;\\n</td>\n",
       "      <td>immunology cell-biology hematology</td>\n",
       "    </tr>\n",
       "    <tr>\n",
       "      <th>3</th>\n",
       "      <td>4</td>\n",
       "      <td>How long does antibiotic-dosed LB maintain good selection?</td>\n",
       "      <td>&lt;p&gt;Various people in our lab will prepare a liter or so of LB, add kanamycin to 25-37 mg/L for selection, and store it at 4 °C for minipreps or other small cultures (where dosing straight LB with a 1000X stock is troublesome).  Some think using it after more than a week is dubious, but we routinely use kan plates that are 1-2 months old with no ill effect.&lt;/p&gt;\\n\\n&lt;p&gt;How long can LB with antibiotic such as kanamycin, chloramphenicol, or ampicillin be stored at 4 °C and maintain selection?&lt;/p&gt;\\n</td>\n",
       "      <td>cell-culture</td>\n",
       "    </tr>\n",
       "    <tr>\n",
       "      <th>4</th>\n",
       "      <td>5</td>\n",
       "      <td>Is exon order always preserved in splicing?</td>\n",
       "      <td>&lt;p&gt;Are there any cases in which the splicing machinery constructs an mRNA in which the exons are not in the 5' -&gt; 3' genomic order? I'm interested any such cases, whether they involve constitutive or alternative splicing.&lt;/p&gt;\\n</td>\n",
       "      <td>splicing mrna spliceosome introns exons</td>\n",
       "    </tr>\n",
       "    <tr>\n",
       "      <th>5</th>\n",
       "      <td>6</td>\n",
       "      <td>How can I avoid digesting protein-bound DNA?</td>\n",
       "      <td>&lt;p&gt;I'm interested in sequencing and analyzing the bound DNA, and minimizing the amount of unbound DNA that gets sequenced through digestion.&lt;/p&gt;\\n\\n&lt;p&gt;When digesting protein-bound DNA, is &lt;em&gt;all&lt;/em&gt; of the unbound DNA digested? Is there a way to maximize the amount of unbound DNA that is digested?&lt;/p&gt;\\n</td>\n",
       "      <td>dna biochemistry molecular-biology</td>\n",
       "    </tr>\n",
       "    <tr>\n",
       "      <th>6</th>\n",
       "      <td>8</td>\n",
       "      <td>Under what conditions do dendritic spines form?</td>\n",
       "      <td>&lt;p&gt;I'm looking for resources or any information about the formation of dendritic spines and synaptogenesis, especially in relation to how new connections are formed on a daily basis.&lt;/p&gt;\\n\\n&lt;p&gt;Does the electrotonic signalling along the axons and through the spines cause new connections to be made based on some kind of spatial condition (maybe an electrical or chemical attraction), or is there some larger heuristic here?&lt;/p&gt;\\n</td>\n",
       "      <td>neuroscience synapses</td>\n",
       "    </tr>\n",
       "    <tr>\n",
       "      <th>7</th>\n",
       "      <td>9</td>\n",
       "      <td>How should I ship plasmids?</td>\n",
       "      <td>&lt;p&gt;I shipped 10 µL of my vector miniprep to a collaborator in a 1.5 mL eppendorf parafilmed shut and stuffed into a 50 mL conical with some paper-towel padding.  However, something happened on the way and there was nothing (no liquid) in the tube when it arrived.  They didn't make any comments about the microcentrifuge tube popping open or broken parafilm, so nothing crazy happened but something did.&lt;/p&gt;\\n\\n&lt;p&gt;What's the most reliable way to ship plasmids?&lt;/p&gt;\\n</td>\n",
       "      <td>plasmids</td>\n",
       "    </tr>\n",
       "    <tr>\n",
       "      <th>8</th>\n",
       "      <td>10</td>\n",
       "      <td>What is the reason behind choosing the reporter gene when experimenting on your gene of interest?</td>\n",
       "      <td>&lt;p&gt;I noticed within example experiments in class that different reporter genes are chosen to be inserted near your gene of interest to prove whether or not the gene is being expressed. For example, you may insert the gene for fluorescence next to your gene of interest so you know if it is transcribed or not by whether the organism's cells are fluorescent and to what degree they are fluorescing at.&lt;/p&gt;\\n\\n&lt;p&gt;I have noticed in some experiments that have multiple versions that in one case they use the fluorescent gene and in the next a different gene (for example lactose). Both portions of the experiment use almost the exact same steps so why would they not choose the same reporter gene?&lt;/p&gt;\\n</td>\n",
       "      <td>molecular-genetics gene-expression experimental-design</td>\n",
       "    </tr>\n",
       "    <tr>\n",
       "      <th>9</th>\n",
       "      <td>11</td>\n",
       "      <td>How many times did endosymbiosis occur?</td>\n",
       "      <td>&lt;p&gt;According to the endosymbiont theory, mitochondria and chloroplasts originated as bacteria which were engulfed by larger cells. How many times is it estimated that this occurred in the past? Are there any examples of this process being observed directly?&lt;/p&gt;\\n</td>\n",
       "      <td>evolution mitochondria chloroplasts</td>\n",
       "    </tr>\n",
       "  </tbody>\n",
       "</table>\n",
       "</div>"
      ],
      "text/plain": [
       "   id  \\\n",
       "0   1   \n",
       "1   2   \n",
       "2   3   \n",
       "3   4   \n",
       "4   5   \n",
       "5   6   \n",
       "6   8   \n",
       "7   9   \n",
       "8  10   \n",
       "9  11   \n",
       "\n",
       "                                                                                                          title  \\\n",
       "0  What is the criticality of the ribosome binding site relative to the start codon in prokaryotic translation?   \n",
       "1                                                How is RNAse contamination in RNA based experiments prevented?   \n",
       "2                                                                 Are lymphocyte sizes clustered in two groups?   \n",
       "3                                                    How long does antibiotic-dosed LB maintain good selection?   \n",
       "4                                                                   Is exon order always preserved in splicing?   \n",
       "5                                                                  How can I avoid digesting protein-bound DNA?   \n",
       "6                                                               Under what conditions do dendritic spines form?   \n",
       "7                                                                                   How should I ship plasmids?   \n",
       "8             What is the reason behind choosing the reporter gene when experimenting on your gene of interest?   \n",
       "9                                                                       How many times did endosymbiosis occur?   \n",
       "\n",
       "                                                                                                                                                                                                                                                                                                                                                                                                                                                                                                                                                                                                                                                                                                                       content  \\\n",
       "0                                                                                                                                                                                                                                                                                                                                                                                                   <p>In prokaryotic translation, how critical for efficient translation is the location of the ribosome binding site, relative to the start codon?</p>\\n\\n<p>Ideally, it is supposed to be -7b away from the start. How about if it is -9 bases away or even more? Will this have an observable effect on translation?</p>\\n   \n",
       "1                                                                                                                                                                                                                                                                                                                                                                                                                                                                                      <p>Does anyone have any suggestions to prevent RNAse contamination when working with RNA?</p>\\n\\n<p>I tend to have issues with degradation regardless of whether I use DEPC treated / RNAse free water and filtered pipette tips.</p>\\n   \n",
       "2                                                                                                                                                                                                                                                                                                           <p>Tortora writes in <em>Principles of Anatomy and Physiology</em>:</p>\\n\\n<blockquote>\\n  <p>Lymphocytes may be as small as 6–9 μm in diameter or as large as 10–14 μm in diameter.</p>\\n</blockquote>\\n\\n<p>Those ranges are quite close to each others. Should the above be taken to mean that lymphocytes sizes are clustered in two groups, or is it just a way of saying that lymphocytes are 6-14 μm?</p>\\n   \n",
       "3                                                                                                                                                                                                           <p>Various people in our lab will prepare a liter or so of LB, add kanamycin to 25-37 mg/L for selection, and store it at 4 °C for minipreps or other small cultures (where dosing straight LB with a 1000X stock is troublesome).  Some think using it after more than a week is dubious, but we routinely use kan plates that are 1-2 months old with no ill effect.</p>\\n\\n<p>How long can LB with antibiotic such as kanamycin, chloramphenicol, or ampicillin be stored at 4 °C and maintain selection?</p>\\n   \n",
       "4                                                                                                                                                                                                                                                                                                                                                                                                                                                                                          <p>Are there any cases in which the splicing machinery constructs an mRNA in which the exons are not in the 5' -> 3' genomic order? I'm interested any such cases, whether they involve constitutive or alternative splicing.</p>\\n   \n",
       "5                                                                                                                                                                                                                                                                                                                                                                                                           <p>I'm interested in sequencing and analyzing the bound DNA, and minimizing the amount of unbound DNA that gets sequenced through digestion.</p>\\n\\n<p>When digesting protein-bound DNA, is <em>all</em> of the unbound DNA digested? Is there a way to maximize the amount of unbound DNA that is digested?</p>\\n   \n",
       "6                                                                                                                                                                                                                                                                                <p>I'm looking for resources or any information about the formation of dendritic spines and synaptogenesis, especially in relation to how new connections are formed on a daily basis.</p>\\n\\n<p>Does the electrotonic signalling along the axons and through the spines cause new connections to be made based on some kind of spatial condition (maybe an electrical or chemical attraction), or is there some larger heuristic here?</p>\\n   \n",
       "7                                                                                                                                                                                                                                           <p>I shipped 10 µL of my vector miniprep to a collaborator in a 1.5 mL eppendorf parafilmed shut and stuffed into a 50 mL conical with some paper-towel padding.  However, something happened on the way and there was nothing (no liquid) in the tube when it arrived.  They didn't make any comments about the microcentrifuge tube popping open or broken parafilm, so nothing crazy happened but something did.</p>\\n\\n<p>What's the most reliable way to ship plasmids?</p>\\n   \n",
       "8  <p>I noticed within example experiments in class that different reporter genes are chosen to be inserted near your gene of interest to prove whether or not the gene is being expressed. For example, you may insert the gene for fluorescence next to your gene of interest so you know if it is transcribed or not by whether the organism's cells are fluorescent and to what degree they are fluorescing at.</p>\\n\\n<p>I have noticed in some experiments that have multiple versions that in one case they use the fluorescent gene and in the next a different gene (for example lactose). Both portions of the experiment use almost the exact same steps so why would they not choose the same reporter gene?</p>\\n   \n",
       "9                                                                                                                                                                                                                                                                                                                                                                                                                                                      <p>According to the endosymbiont theory, mitochondria and chloroplasts originated as bacteria which were engulfed by larger cells. How many times is it estimated that this occurred in the past? Are there any examples of this process being observed directly?</p>\\n   \n",
       "\n",
       "                                                     tags  \n",
       "0    ribosome binding-sites translation synthetic-biology  \n",
       "1                                        rna biochemistry  \n",
       "2                      immunology cell-biology hematology  \n",
       "3                                            cell-culture  \n",
       "4                 splicing mrna spliceosome introns exons  \n",
       "5                      dna biochemistry molecular-biology  \n",
       "6                                   neuroscience synapses  \n",
       "7                                                plasmids  \n",
       "8  molecular-genetics gene-expression experimental-design  \n",
       "9                     evolution mitochondria chloroplasts  "
      ]
     },
     "execution_count": 2,
     "metadata": {},
     "output_type": "execute_result"
    }
   ],
   "source": [
    "dataframe_1 = pd.DataFrame()\n",
    "data_list = ['biology', 'cooking', 'crypto', 'diy', 'robotics', 'travel']\n",
    "pd.set_option('max_colwidth', 800)\n",
    "\n",
    "for theme in data_list:\n",
    "    path = \"dados/\" + theme + \".csv\"\n",
    "    x = pd.read_csv(path)\n",
    "    dataframe_1 = dataframe_1.append(x)\n",
    "\n",
    "dataframe_1.head(10)"
   ]
  },
  {
   "cell_type": "markdown",
   "metadata": {
    "collapsed": true,
    "deletable": true,
    "editable": true
   },
   "source": [
    "### Removing html tags and '\\n' from 'content' column"
   ]
  },
  {
   "cell_type": "code",
   "execution_count": 3,
   "metadata": {
    "collapsed": false,
    "deletable": true,
    "editable": true
   },
   "outputs": [
    {
     "data": {
      "text/plain": [
       "['In prokaryotic translation  how critical for efficient translation is the location of the ribosome binding site  relative to the start codon   Ideally  it is supposed to be -7b away from the start  How about if it is -9 bases away or even more  Will this have an observable effect on translation  ',\n",
       " 'Does anyone have any suggestions to prevent RNAse contamination when working with RNA   I tend to have issues with degradation regardless of whether I use DEPC treated / RNAse free water and filtered pipette tips  ',\n",
       " 'Tortora writes in Principles of Anatomy and Physiology      Lymphocytes may be as small as 6–9 μm in diameter or as large as 10–14 μm in diameter    Those ranges are quite close to each others  Should the above be taken to mean that lymphocytes sizes are clustered in two groups  or is it just a way of saying that lymphocytes are 6-14 μm  ',\n",
       " 'Various people in our lab will prepare a liter or so of LB  add kanamycin to 25-37 mg/L for selection  and store it at 4 °C for minipreps or other small cultures (where dosing straight LB with a 1000X stock is troublesome)   Some think using it after more than a week is dubious  but we routinely use kan plates that are 1-2 months old with no ill effect   How long can LB with antibiotic such as kanamycin  chloramphenicol  or ampicillin be stored at 4 °C and maintain selection  ',\n",
       " 'Are there any cases in which the splicing machinery constructs an mRNA in which the exons are not in the 5  -> 3  genomic order  I m interested any such cases  whether they involve constitutive or alternative splicing  ']"
      ]
     },
     "execution_count": 3,
     "metadata": {},
     "output_type": "execute_result"
    }
   ],
   "source": [
    "comments = list(dataframe_1['content'])\n",
    "comments_clean = []\n",
    "\n",
    "for comment in comments:\n",
    "    #clean html tags\n",
    "    x = BeautifulSoup(comment, 'html5lib').get_text()\n",
    "    #clean new line operator and ponctuation's marks\n",
    "    for rep in ['\\n','.','?','!',',',';',':',\"'\"]:\n",
    "        x = x.replace(rep, ' ')\n",
    "    comments_clean.append(x)\n",
    "    \n",
    "comments_clean[:5]"
   ]
  },
  {
   "cell_type": "markdown",
   "metadata": {
    "deletable": true,
    "editable": true
   },
   "source": [
    "### Removing stop words"
   ]
  },
  {
   "cell_type": "code",
   "execution_count": 4,
   "metadata": {
    "collapsed": false,
    "deletable": true,
    "editable": true
   },
   "outputs": [],
   "source": [
    "stop = set(stopwords.words('english'))\n",
    "split_comments = []\n",
    "for comment in comments_clean:\n",
    "    x = comment.split()\n",
    "    split_comments.append(x)\n",
    "\n",
    "split_comments_2 = []\n",
    "\n",
    "for comment in split_comments:\n",
    "    word_list = []\n",
    "    for word in comment:\n",
    "        if word.lower() not in stop:\n",
    "            word_list.append(word)\n",
    "    split_comments_2.append(word_list)\n"
   ]
  },
  {
   "cell_type": "code",
   "execution_count": 5,
   "metadata": {
    "collapsed": false,
    "deletable": true,
    "editable": true
   },
   "outputs": [
    {
     "name": "stdout",
     "output_type": "stream",
     "text": [
      "[['prokaryotic', 'translation', 'critical', 'efficient', 'translation', 'location', 'ribosome', 'binding', 'site', 'relative', 'start', 'codon', 'Ideally', 'supposed', '-7b', 'away', 'start', '-9', 'bases', 'away', 'even', 'observable', 'effect', 'translation'], ['anyone', 'suggestions', 'prevent', 'RNAse', 'contamination', 'working', 'RNA', 'tend', 'issues', 'degradation', 'regardless', 'whether', 'use', 'DEPC', 'treated', '/', 'RNAse', 'free', 'water', 'filtered', 'pipette', 'tips'], ['Tortora', 'writes', 'Principles', 'Anatomy', 'Physiology', 'Lymphocytes', 'may', 'small', '6–9', 'μm', 'diameter', 'large', '10–14', 'μm', 'diameter', 'ranges', 'quite', 'close', 'others', 'taken', 'mean', 'lymphocytes', 'sizes', 'clustered', 'two', 'groups', 'way', 'saying', 'lymphocytes', '6-14', 'μm'], ['Various', 'people', 'lab', 'prepare', 'liter', 'LB', 'add', 'kanamycin', '25-37', 'mg/L', 'selection', 'store', '4', '°C', 'minipreps', 'small', 'cultures', '(where', 'dosing', 'straight', 'LB', '1000X', 'stock', 'troublesome)', 'think', 'using', 'week', 'dubious', 'routinely', 'use', 'kan', 'plates', '1-2', 'months', 'old', 'ill', 'effect', 'long', 'LB', 'antibiotic', 'kanamycin', 'chloramphenicol', 'ampicillin', 'stored', '4', '°C', 'maintain', 'selection'], ['cases', 'splicing', 'machinery', 'constructs', 'mRNA', 'exons', '5', '->', '3', 'genomic', 'order', 'interested', 'cases', 'whether', 'involve', 'constitutive', 'alternative', 'splicing']]\n"
     ]
    }
   ],
   "source": [
    "print(split_comments_2[:5])"
   ]
  },
  {
   "cell_type": "code",
   "execution_count": 6,
   "metadata": {
    "collapsed": false,
    "deletable": true,
    "editable": true
   },
   "outputs": [
    {
     "name": "stdout",
     "output_type": "stream",
     "text": [
      "87000\n"
     ]
    }
   ],
   "source": [
    "print(len(split_comments_2))"
   ]
  },
  {
   "cell_type": "code",
   "execution_count": 7,
   "metadata": {
    "collapsed": false,
    "deletable": true,
    "editable": true
   },
   "outputs": [
    {
     "data": {
      "text/plain": [
       "(87000, 4)"
      ]
     },
     "execution_count": 7,
     "metadata": {},
     "output_type": "execute_result"
    }
   ],
   "source": [
    "dataframe_1.shape"
   ]
  },
  {
   "cell_type": "markdown",
   "metadata": {
    "collapsed": true,
    "deletable": true,
    "editable": true
   },
   "source": [
    "### Working with variable 'title'"
   ]
  },
  {
   "cell_type": "code",
   "execution_count": 8,
   "metadata": {
    "collapsed": false,
    "deletable": true,
    "editable": true
   },
   "outputs": [
    {
     "data": {
      "text/plain": [
       "['What is the criticality of the ribosome binding site relative to the start codon in prokaryotic translation ',\n",
       " 'How is RNAse contamination in RNA based experiments prevented ',\n",
       " 'Are lymphocyte sizes clustered in two groups ',\n",
       " 'How long does antibiotic-dosed LB maintain good selection ',\n",
       " 'Is exon order always preserved in splicing ',\n",
       " 'How can I avoid digesting protein-bound DNA ',\n",
       " 'Under what conditions do dendritic spines form ',\n",
       " 'How should I ship plasmids ',\n",
       " 'What is the reason behind choosing the reporter gene when experimenting on your gene of interest ',\n",
       " 'How many times did endosymbiosis occur ']"
      ]
     },
     "execution_count": 8,
     "metadata": {},
     "output_type": "execute_result"
    }
   ],
   "source": [
    "titles = list(dataframe_1['title'])\n",
    "titles_clean = []\n",
    "\n",
    "for title in titles:\n",
    "    #clean new line operator and ponctuation's marks\n",
    "    for rep in ['\\n','.','?','!',',',';',':',\"'\"]:\n",
    "        title = title.replace(rep, ' ')\n",
    "    titles_clean.append(title)\n",
    "    \n",
    "titles_clean[:10]"
   ]
  },
  {
   "cell_type": "code",
   "execution_count": 9,
   "metadata": {
    "collapsed": false,
    "deletable": true,
    "editable": true
   },
   "outputs": [
    {
     "name": "stdout",
     "output_type": "stream",
     "text": [
      "[['criticality', 'ribosome', 'binding', 'site', 'relative', 'start', 'codon', 'prokaryotic', 'translation'], ['RNAse', 'contamination', 'RNA', 'based', 'experiments', 'prevented'], ['lymphocyte', 'sizes', 'clustered', 'two', 'groups'], ['long', 'antibiotic-dosed', 'LB', 'maintain', 'good', 'selection'], ['exon', 'order', 'always', 'preserved', 'splicing'], ['avoid', 'digesting', 'protein-bound', 'DNA']]\n"
     ]
    }
   ],
   "source": [
    "split_titles = []\n",
    "for title in titles_clean:\n",
    "    x = title.split()\n",
    "    split_titles.append(x)\n",
    "\n",
    "split_titles_2 = []\n",
    "\n",
    "for title in split_titles:\n",
    "    word_list = []\n",
    "    for word in title:\n",
    "        if word.lower() not in stop:\n",
    "            word_list.append(word)\n",
    "    split_titles_2.append(word_list)\n",
    "    \n",
    "print(split_titles_2[:6])"
   ]
  },
  {
   "cell_type": "code",
   "execution_count": 10,
   "metadata": {
    "collapsed": false,
    "deletable": true,
    "editable": true
   },
   "outputs": [
    {
     "data": {
      "text/plain": [
       "87000"
      ]
     },
     "execution_count": 10,
     "metadata": {},
     "output_type": "execute_result"
    }
   ],
   "source": [
    "len(split_titles_2)"
   ]
  },
  {
   "cell_type": "markdown",
   "metadata": {
    "deletable": true,
    "editable": true
   },
   "source": [
    "### First tags\n",
    "#### 1 - Words in title and content"
   ]
  },
  {
   "cell_type": "code",
   "execution_count": 11,
   "metadata": {
    "collapsed": false,
    "deletable": true,
    "editable": true
   },
   "outputs": [
    {
     "data": {
      "text/plain": [
       "[['ribosome',\n",
       "  'prokaryotic',\n",
       "  'site',\n",
       "  'binding',\n",
       "  'start',\n",
       "  'relative',\n",
       "  'translation',\n",
       "  'codon'],\n",
       " ['RNAse', 'contamination', 'RNA'],\n",
       " ['sizes', 'two', 'groups', 'clustered'],\n",
       " ['LB', 'maintain', 'long', 'selection'],\n",
       " ['order', 'splicing'],\n",
       " ['DNA', 'protein-bound', 'digesting'],\n",
       " ['dendritic', 'spines'],\n",
       " ['ship', 'plasmids'],\n",
       " ['reporter', 'gene', 'interest'],\n",
       " ['times', 'many']]"
      ]
     },
     "execution_count": 11,
     "metadata": {},
     "output_type": "execute_result"
    }
   ],
   "source": [
    "tags_list = []\n",
    "for i in range(len(split_titles_2)):\n",
    "    \n",
    "    title_tags = []\n",
    "    for ii in range(len(split_titles_2[i])):\n",
    "        if split_titles_2[i][ii] in split_comments_2[i]:\n",
    "            title_tags.append(split_titles_2[i][ii])\n",
    "    tags_list.append(list(set(title_tags)))\n",
    "\n",
    "tags_list[:10]"
   ]
  },
  {
   "cell_type": "markdown",
   "metadata": {
    "collapsed": true,
    "deletable": true,
    "editable": true
   },
   "source": [
    "# First submition"
   ]
  },
  {
   "cell_type": "code",
   "execution_count": 12,
   "metadata": {
    "collapsed": false
   },
   "outputs": [
    {
     "data": {
      "text/html": [
       "<div>\n",
       "<table border=\"1\" class=\"dataframe\">\n",
       "  <thead>\n",
       "    <tr style=\"text-align: right;\">\n",
       "      <th></th>\n",
       "      <th>id</th>\n",
       "      <th>title</th>\n",
       "      <th>content</th>\n",
       "    </tr>\n",
       "  </thead>\n",
       "  <tbody>\n",
       "    <tr>\n",
       "      <th>0</th>\n",
       "      <td>1</td>\n",
       "      <td>What is spin as it relates to subatomic particles?</td>\n",
       "      <td>&lt;p&gt;I often hear about subatomic particles having a property called \"spin\" but also that it doesn't actually relate to spinning about an axis like you would think. Which particles have spin? What does spin mean if not an actual spinning motion?&lt;/p&gt;\\n</td>\n",
       "    </tr>\n",
       "    <tr>\n",
       "      <th>1</th>\n",
       "      <td>2</td>\n",
       "      <td>What is your simplest explanation of the string theory?</td>\n",
       "      <td>&lt;p&gt;How would you explain string theory to non physicists such as myself? I'm specially interested on how plausible is it and what is needed to successfully prove it?&lt;/p&gt;\\n</td>\n",
       "    </tr>\n",
       "    <tr>\n",
       "      <th>2</th>\n",
       "      <td>3</td>\n",
       "      <td>Lie theory, Representations and particle physics</td>\n",
       "      <td>&lt;p&gt;This is a question that has been posted at many different forums, I thought maybe someone here would have a better or more conceptual answer than I have seen before:&lt;/p&gt;\\n\\n&lt;p&gt;Why do physicists care about representations of Lie groups? For myself, when I think about a representation that means there is some sort of group acting on a vector space, what is the vector space that this Lie group is acting on? &lt;/p&gt;\\n\\n&lt;p&gt;Or is it that certain things have to be invariant under a group action?\\nmaybe this is a dumb question, but i thought it might be a good start...&lt;/p&gt;\\n\\n&lt;p&gt;To clarify, I am specifically thinking of the symmetry groups that people think about in relation to the standard model. I do not care why it might be a certain group, but more how we see the group acting, what is it a...</td>\n",
       "    </tr>\n",
       "    <tr>\n",
       "      <th>3</th>\n",
       "      <td>7</td>\n",
       "      <td>Will Determinism be ever possible?</td>\n",
       "      <td>&lt;p&gt;What are the main problems that we need to solve to prove Laplace's determinism correct and overcome the Uncertainty principle?&lt;/p&gt;\\n</td>\n",
       "    </tr>\n",
       "    <tr>\n",
       "      <th>4</th>\n",
       "      <td>9</td>\n",
       "      <td>Hamilton's Principle</td>\n",
       "      <td>&lt;p&gt;Hamilton's principle states that a dynamic system always follows a path such that its action integral is stationary (that is, maximum or minimum).&lt;/p&gt;\\n\\n&lt;p&gt;Why should the action integral be stationary? On what basis did Hamilton state this principle?&lt;/p&gt;\\n</td>\n",
       "    </tr>\n",
       "    <tr>\n",
       "      <th>5</th>\n",
       "      <td>13</td>\n",
       "      <td>What is sound and how is it produced?</td>\n",
       "      <td>&lt;p&gt;I've been using the term \"sound\" all my life, but I really have no clue as to what sound exactly is or how it is created. What is sound? How is it produced? Can it be measured?&lt;/p&gt;\\n</td>\n",
       "    </tr>\n",
       "    <tr>\n",
       "      <th>6</th>\n",
       "      <td>15</td>\n",
       "      <td>What experiment would disprove string theory?</td>\n",
       "      <td>&lt;p&gt;I know that there's big controversy between two groups of physicists:&lt;/p&gt;\\n\\n&lt;ol&gt;\\n&lt;li&gt;those who support string theory (most of them, I think)&lt;/li&gt;\\n&lt;li&gt;and those who oppose it.&lt;/li&gt;\\n&lt;/ol&gt;\\n\\n&lt;p&gt;One of the arguments of the second group is that there's no way to disprove the correctness of the string theory.&lt;/p&gt;\\n\\n&lt;p&gt;So my question is if there's any defined experiment that would disprove string theory? &lt;/p&gt;\\n</td>\n",
       "    </tr>\n",
       "    <tr>\n",
       "      <th>7</th>\n",
       "      <td>17</td>\n",
       "      <td>Why does the sky change color? Why the sky is blue during the day, red during sunrise/set and black during the night?</td>\n",
       "      <td>&lt;p&gt;Why does the sky change color? Why the sky is blue during the day, red during sunrise/set and black during the night?&lt;/p&gt;\\n</td>\n",
       "    </tr>\n",
       "    <tr>\n",
       "      <th>8</th>\n",
       "      <td>19</td>\n",
       "      <td>How's the energy of particle collisions calculated?</td>\n",
       "      <td>&lt;p&gt;Physicists often refer to the energy of collisions between different particles. My question is: how is that energy calculated? Is that kinetic energy?&lt;/p&gt;\\n\\n&lt;p&gt;Also, related to this question, I know that the aim is to have higher and higher energy collisions (e.g to test for Higgs Boson). My understanding is that to have higher energy you can either accelerate them more, or use particles with higher mass. Is this correct?&lt;/p&gt;\\n</td>\n",
       "    </tr>\n",
       "    <tr>\n",
       "      <th>9</th>\n",
       "      <td>21</td>\n",
       "      <td>Monte Carlo use</td>\n",
       "      <td>&lt;p&gt;Where is the Monte Carlo method used in physics?&lt;/p&gt;\\n</td>\n",
       "    </tr>\n",
       "  </tbody>\n",
       "</table>\n",
       "</div>"
      ],
      "text/plain": [
       "   id  \\\n",
       "0   1   \n",
       "1   2   \n",
       "2   3   \n",
       "3   7   \n",
       "4   9   \n",
       "5  13   \n",
       "6  15   \n",
       "7  17   \n",
       "8  19   \n",
       "9  21   \n",
       "\n",
       "                                                                                                                   title  \\\n",
       "0                                                                     What is spin as it relates to subatomic particles?   \n",
       "1                                                                What is your simplest explanation of the string theory?   \n",
       "2                                                                       Lie theory, Representations and particle physics   \n",
       "3                                                                                     Will Determinism be ever possible?   \n",
       "4                                                                                                   Hamilton's Principle   \n",
       "5                                                                                  What is sound and how is it produced?   \n",
       "6                                                                          What experiment would disprove string theory?   \n",
       "7  Why does the sky change color? Why the sky is blue during the day, red during sunrise/set and black during the night?   \n",
       "8                                                                    How's the energy of particle collisions calculated?   \n",
       "9                                                                                                        Monte Carlo use   \n",
       "\n",
       "                                                                                                                                                                                                                                                                                                                                                                                                                                                                                                                                                                                                                                                                                                                                                                                                                           content  \n",
       "0                                                                                                                                                                                                                                                                                                                                                                                                                                                                                                                                                                        <p>I often hear about subatomic particles having a property called \"spin\" but also that it doesn't actually relate to spinning about an axis like you would think. Which particles have spin? What does spin mean if not an actual spinning motion?</p>\\n  \n",
       "1                                                                                                                                                                                                                                                                                                                                                                                                                                                                                                                                                                                                                                                      <p>How would you explain string theory to non physicists such as myself? I'm specially interested on how plausible is it and what is needed to successfully prove it?</p>\\n  \n",
       "2  <p>This is a question that has been posted at many different forums, I thought maybe someone here would have a better or more conceptual answer than I have seen before:</p>\\n\\n<p>Why do physicists care about representations of Lie groups? For myself, when I think about a representation that means there is some sort of group acting on a vector space, what is the vector space that this Lie group is acting on? </p>\\n\\n<p>Or is it that certain things have to be invariant under a group action?\\nmaybe this is a dumb question, but i thought it might be a good start...</p>\\n\\n<p>To clarify, I am specifically thinking of the symmetry groups that people think about in relation to the standard model. I do not care why it might be a certain group, but more how we see the group acting, what is it a...  \n",
       "3                                                                                                                                                                                                                                                                                                                                                                                                                                                                                                                                                                                                                                                                                         <p>What are the main problems that we need to solve to prove Laplace's determinism correct and overcome the Uncertainty principle?</p>\\n  \n",
       "4                                                                                                                                                                                                                                                                                                                                                                                                                                                                                                                                                             <p>Hamilton's principle states that a dynamic system always follows a path such that its action integral is stationary (that is, maximum or minimum).</p>\\n\\n<p>Why should the action integral be stationary? On what basis did Hamilton state this principle?</p>\\n  \n",
       "5                                                                                                                                                                                                                                                                                                                                                                                                                                                                                                                                                                                                                                        <p>I've been using the term \"sound\" all my life, but I really have no clue as to what sound exactly is or how it is created. What is sound? How is it produced? Can it be measured?</p>\\n  \n",
       "6                                                                                                                                                                                                                                                                                                                                                                                                 <p>I know that there's big controversy between two groups of physicists:</p>\\n\\n<ol>\\n<li>those who support string theory (most of them, I think)</li>\\n<li>and those who oppose it.</li>\\n</ol>\\n\\n<p>One of the arguments of the second group is that there's no way to disprove the correctness of the string theory.</p>\\n\\n<p>So my question is if there's any defined experiment that would disprove string theory? </p>\\n  \n",
       "7                                                                                                                                                                                                                                                                                                                                                                                                                                                                                                                                                                                                                                                                                                   <p>Why does the sky change color? Why the sky is blue during the day, red during sunrise/set and black during the night?</p>\\n  \n",
       "8                                                                                                                                                                                                                                                                                                                                                                              <p>Physicists often refer to the energy of collisions between different particles. My question is: how is that energy calculated? Is that kinetic energy?</p>\\n\\n<p>Also, related to this question, I know that the aim is to have higher and higher energy collisions (e.g to test for Higgs Boson). My understanding is that to have higher energy you can either accelerate them more, or use particles with higher mass. Is this correct?</p>\\n  \n",
       "9                                                                                                                                                                                                                                                                                                                                                                                                                                                                                                                                                                                                                                                                                                                                                                        <p>Where is the Monte Carlo method used in physics?</p>\\n  "
      ]
     },
     "execution_count": 12,
     "metadata": {},
     "output_type": "execute_result"
    }
   ],
   "source": [
    "dataframe_test = pd.read_csv('dados/test.csv')\n",
    "dataframe_test.head(10)"
   ]
  },
  {
   "cell_type": "code",
   "execution_count": 133,
   "metadata": {
    "collapsed": false
   },
   "outputs": [
    {
     "data": {
      "text/plain": [
       "['I often hear about subatomic particles having a property called  spin  but also that it doesn t actually relate to spinning about an axis like you would think  Which particles have spin  What does spin mean if not an actual spinning motion  ',\n",
       " 'How would you explain string theory to non physicists such as myself  I m specially interested on how plausible is it and what is needed to successfully prove it  ',\n",
       " 'This is a question that has been posted at many different forums  I thought maybe someone here would have a better or more conceptual answer than I have seen before   Why do physicists care about representations of Lie groups  For myself  when I think about a representation that means there is some sort of group acting on a vector space  what is the vector space that this Lie group is acting on    Or is it that certain things have to be invariant under a group action  maybe this is a dumb question  but i thought it might be a good start     To clarify  I am specifically thinking of the symmetry groups that people think about in relation to the standard model  I do not care why it might be a certain group  but more how we see the group acting  what is it acting on  etc  ',\n",
       " 'What are the main problems that we need to solve to prove Laplace s determinism correct and overcome the Uncertainty principle  ',\n",
       " 'Hamilton s principle states that a dynamic system always follows a path such that its action integral is stationary (that is  maximum or minimum)   Why should the action integral be stationary  On what basis did Hamilton state this principle  ']"
      ]
     },
     "execution_count": 133,
     "metadata": {},
     "output_type": "execute_result"
    }
   ],
   "source": [
    "comments = list(dataframe_test['content'])\n",
    "comments_clean = []\n",
    "\n",
    "for comment in comments:\n",
    "    #clean html tags\n",
    "    x = BeautifulSoup(comment, 'html5lib').get_text()\n",
    "    #clean new line operator and ponctuation's marks\n",
    "    for rep in ['\\n','.','?','!',',',';',':',\"'\",'\"']:\n",
    "        x = x.replace(rep, ' ')\n",
    "    comments_clean.append(x)\n",
    "    \n",
    "comments_clean[:5]"
   ]
  },
  {
   "cell_type": "code",
   "execution_count": 134,
   "metadata": {
    "collapsed": true
   },
   "outputs": [],
   "source": [
    "stop = set(stopwords.words('english'))\n",
    "split_comments = []\n",
    "for comment in comments_clean:\n",
    "    x = comment.split()\n",
    "    split_comments.append(x)\n",
    "\n",
    "split_comments_2 = []\n",
    "\n",
    "for comment in split_comments:\n",
    "    word_list = []\n",
    "    for word in comment:\n",
    "        if word.lower() not in stop:\n",
    "            word_list.append(word)\n",
    "    split_comments_2.append(word_list)"
   ]
  },
  {
   "cell_type": "code",
   "execution_count": 135,
   "metadata": {
    "collapsed": false
   },
   "outputs": [
    {
     "name": "stdout",
     "output_type": "stream",
     "text": [
      "[['often', 'hear', 'subatomic', 'particles', 'property', 'called', 'spin', 'also', 'actually', 'relate', 'spinning', 'axis', 'like', 'would', 'think', 'particles', 'spin', 'spin', 'mean', 'actual', 'spinning', 'motion'], ['would', 'explain', 'string', 'theory', 'non', 'physicists', 'specially', 'interested', 'plausible', 'needed', 'successfully', 'prove'], ['question', 'posted', 'many', 'different', 'forums', 'thought', 'maybe', 'someone', 'would', 'better', 'conceptual', 'answer', 'seen', 'physicists', 'care', 'representations', 'Lie', 'groups', 'think', 'representation', 'means', 'sort', 'group', 'acting', 'vector', 'space', 'vector', 'space', 'Lie', 'group', 'acting', 'certain', 'things', 'invariant', 'group', 'action', 'maybe', 'dumb', 'question', 'thought', 'might', 'good', 'start', 'clarify', 'specifically', 'thinking', 'symmetry', 'groups', 'people', 'think', 'relation', 'standard', 'model', 'care', 'might', 'certain', 'group', 'see', 'group', 'acting', 'acting', 'etc'], ['main', 'problems', 'need', 'solve', 'prove', 'Laplace', 'determinism', 'correct', 'overcome', 'Uncertainty', 'principle'], ['Hamilton', 'principle', 'states', 'dynamic', 'system', 'always', 'follows', 'path', 'action', 'integral', 'stationary', '(that', 'maximum', 'minimum)', 'action', 'integral', 'stationary', 'basis', 'Hamilton', 'state', 'principle']]\n"
     ]
    }
   ],
   "source": [
    "print(split_comments_2[:5])"
   ]
  },
  {
   "cell_type": "code",
   "execution_count": 136,
   "metadata": {
    "collapsed": false
   },
   "outputs": [
    {
     "data": {
      "text/plain": [
       "['What is spin as it relates to subatomic particles ',\n",
       " 'What is your simplest explanation of the string theory ',\n",
       " 'Lie theory  Representations and particle physics',\n",
       " 'Will Determinism be ever possible ',\n",
       " 'Hamilton s Principle',\n",
       " 'What is sound and how is it produced ',\n",
       " 'What experiment would disprove string theory ',\n",
       " 'Why does the sky change color  Why the sky is blue during the day  red during sunrise/set and black during the night ',\n",
       " 'How s the energy of particle collisions calculated ',\n",
       " 'Monte Carlo use']"
      ]
     },
     "execution_count": 136,
     "metadata": {},
     "output_type": "execute_result"
    }
   ],
   "source": [
    "titles = list(dataframe_test['title'])\n",
    "titles_clean = []\n",
    "\n",
    "for title in titles:\n",
    "    #clean new line operator and ponctuation's marks\n",
    "    for rep in ['\\n','.','?','!',',',';',':',\"'\"]:\n",
    "        title = title.replace(rep, ' ')\n",
    "    titles_clean.append(title)\n",
    "    \n",
    "titles_clean[:10]"
   ]
  },
  {
   "cell_type": "code",
   "execution_count": 137,
   "metadata": {
    "collapsed": false
   },
   "outputs": [
    {
     "name": "stdout",
     "output_type": "stream",
     "text": [
      "[['spin', 'relates', 'subatomic', 'particles'], ['simplest', 'explanation', 'string', 'theory'], ['Lie', 'theory', 'Representations', 'particle', 'physics'], ['Determinism', 'ever', 'possible'], ['Hamilton', 'Principle'], ['sound', 'produced']]\n"
     ]
    }
   ],
   "source": [
    "split_titles = []\n",
    "for title in titles_clean:\n",
    "    x = title.split()\n",
    "    split_titles.append(x)\n",
    "\n",
    "split_titles_2 = []\n",
    "\n",
    "for title in split_titles:\n",
    "    word_list = []\n",
    "    for word in title:\n",
    "        if word.lower() not in stop:\n",
    "            word_list.append(word)\n",
    "    split_titles_2.append(word_list)\n",
    "    \n",
    "print(split_titles_2[:6])"
   ]
  },
  {
   "cell_type": "code",
   "execution_count": 138,
   "metadata": {
    "collapsed": false
   },
   "outputs": [
    {
     "data": {
      "text/plain": [
       "[['spin', 'particles', 'subatomic'],\n",
       " ['theory', 'string'],\n",
       " ['lie'],\n",
       " [],\n",
       " ['hamilton'],\n",
       " ['sound', 'produced'],\n",
       " ['would', 'theory', 'experiment', 'disprove', 'string'],\n",
       " ['black',\n",
       "  'change',\n",
       "  'day',\n",
       "  'blue',\n",
       "  'sunrise/set',\n",
       "  'sky',\n",
       "  'color',\n",
       "  'red',\n",
       "  'night'],\n",
       " ['calculated', 'energy', 'collisions'],\n",
       " ['carlo', 'monte']]"
      ]
     },
     "execution_count": 138,
     "metadata": {},
     "output_type": "execute_result"
    }
   ],
   "source": [
    "tags_list = []\n",
    "for i in range(len(split_titles_2)):\n",
    "    \n",
    "    title_tags = []\n",
    "    for ii in range(len(split_titles_2[i])):\n",
    "        if split_titles_2[i][ii] in split_comments_2[i]:\n",
    "            title_tags.append(split_titles_2[i][ii].lower())\n",
    "    tags_list.append(list(set(title_tags)))\n",
    "\n",
    "tags_list[:10]"
   ]
  },
  {
   "cell_type": "code",
   "execution_count": 183,
   "metadata": {
    "collapsed": false
   },
   "outputs": [
    {
     "name": "stdout",
     "output_type": "stream",
     "text": [
      "[['spin particles subatomic'], ['theory string'], ['lie'], [''], ['hamilton'], ['sound produced'], ['would theory experiment disprove string'], ['black change day blue sunrise/set sky color red night'], ['calculated energy collisions'], ['carlo monte']]\n"
     ]
    },
    {
     "data": {
      "text/plain": [
       "81926"
      ]
     },
     "execution_count": 183,
     "metadata": {},
     "output_type": "execute_result"
    }
   ],
   "source": [
    "submit = []\n",
    "for i in range(len(tags_list)):\n",
    "    submit.append([' '.join(tags_list[i])])\n",
    "print(submit[:10])\n",
    "len(submit)"
   ]
  },
  {
   "cell_type": "code",
   "execution_count": 191,
   "metadata": {
    "collapsed": false
   },
   "outputs": [],
   "source": [
    "df_tags = pd.DataFrame(submit, columns=['tags'])\n",
    "submit_df = pd.DataFrame(columns=['id','tags'])\n",
    "submit_df['id'] = dataframe_test['id']\n",
    "submit_df['tags'] = df_tags['tags']\n",
    "submit_df.to_csv('submit_1.csv', index = False, quoting=1)"
   ]
  },
  {
   "cell_type": "code",
   "execution_count": null,
   "metadata": {
    "collapsed": true
   },
   "outputs": [],
   "source": []
  },
  {
   "cell_type": "code",
   "execution_count": null,
   "metadata": {
    "collapsed": true
   },
   "outputs": [],
   "source": []
  }
 ],
 "metadata": {
  "kernelspec": {
   "display_name": "Python 3",
   "language": "python",
   "name": "python3"
  },
  "language_info": {
   "codemirror_mode": {
    "name": "ipython",
    "version": 3
   },
   "file_extension": ".py",
   "mimetype": "text/x-python",
   "name": "python",
   "nbconvert_exporter": "python",
   "pygments_lexer": "ipython3",
   "version": "3.5.0"
  }
 },
 "nbformat": 4,
 "nbformat_minor": 2
}
