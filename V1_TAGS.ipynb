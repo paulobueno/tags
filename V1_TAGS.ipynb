{
 "cells": [
  {
   "cell_type": "markdown",
   "metadata": {
    "deletable": true,
    "editable": true
   },
   "source": [
    "# Transfer Learning on Stack Exchange Tags\n",
    "## Kaggle competition\n",
    "https://www.kaggle.com/c/transfer-learning-on-stack-exchange-tags"
   ]
  },
  {
   "cell_type": "code",
   "execution_count": 150,
   "metadata": {
    "collapsed": false,
    "deletable": true,
    "editable": true
   },
   "outputs": [],
   "source": [
    "import pandas as pd\n",
    "from bs4 import BeautifulSoup\n",
    "from nltk.corpus import stopwords"
   ]
  },
  {
   "cell_type": "code",
   "execution_count": 140,
   "metadata": {
    "collapsed": false,
    "deletable": true,
    "editable": true
   },
   "outputs": [
    {
     "data": {
      "text/html": [
       "<div>\n",
       "<table border=\"1\" class=\"dataframe\">\n",
       "  <thead>\n",
       "    <tr style=\"text-align: right;\">\n",
       "      <th></th>\n",
       "      <th>id</th>\n",
       "      <th>title</th>\n",
       "      <th>content</th>\n",
       "      <th>tags</th>\n",
       "    </tr>\n",
       "  </thead>\n",
       "  <tbody>\n",
       "    <tr>\n",
       "      <th>0</th>\n",
       "      <td>1</td>\n",
       "      <td>What is the criticality of the ribosome binding site relative to the start codon in prokaryotic translation?</td>\n",
       "      <td>&lt;p&gt;In prokaryotic translation, how critical for efficient translation is the location of the ribosome binding site, relative to the start codon?&lt;/p&gt;\\n\\n&lt;p&gt;Ideally, it is supposed to be -7b away from the start. How about if it is -9 bases away or even more? Will this have an observable effect on translation?&lt;/p&gt;\\n</td>\n",
       "      <td>ribosome binding-sites translation synthetic-biology</td>\n",
       "    </tr>\n",
       "    <tr>\n",
       "      <th>1</th>\n",
       "      <td>2</td>\n",
       "      <td>How is RNAse contamination in RNA based experiments prevented?</td>\n",
       "      <td>&lt;p&gt;Does anyone have any suggestions to prevent RNAse contamination when working with RNA?&lt;/p&gt;\\n\\n&lt;p&gt;I tend to have issues with degradation regardless of whether I use DEPC treated / RNAse free water and filtered pipette tips.&lt;/p&gt;\\n</td>\n",
       "      <td>rna biochemistry</td>\n",
       "    </tr>\n",
       "    <tr>\n",
       "      <th>2</th>\n",
       "      <td>3</td>\n",
       "      <td>Are lymphocyte sizes clustered in two groups?</td>\n",
       "      <td>&lt;p&gt;Tortora writes in &lt;em&gt;Principles of Anatomy and Physiology&lt;/em&gt;:&lt;/p&gt;\\n\\n&lt;blockquote&gt;\\n  &lt;p&gt;Lymphocytes may be as small as 6–9 μm in diameter or as large as 10–14 μm in diameter.&lt;/p&gt;\\n&lt;/blockquote&gt;\\n\\n&lt;p&gt;Those ranges are quite close to each others. Should the above be taken to mean that lymphocytes sizes are clustered in two groups, or is it just a way of saying that lymphocytes are 6-14 μm?&lt;/p&gt;\\n</td>\n",
       "      <td>immunology cell-biology hematology</td>\n",
       "    </tr>\n",
       "    <tr>\n",
       "      <th>3</th>\n",
       "      <td>4</td>\n",
       "      <td>How long does antibiotic-dosed LB maintain good selection?</td>\n",
       "      <td>&lt;p&gt;Various people in our lab will prepare a liter or so of LB, add kanamycin to 25-37 mg/L for selection, and store it at 4 °C for minipreps or other small cultures (where dosing straight LB with a 1000X stock is troublesome).  Some think using it after more than a week is dubious, but we routinely use kan plates that are 1-2 months old with no ill effect.&lt;/p&gt;\\n\\n&lt;p&gt;How long can LB with antibiotic such as kanamycin, chloramphenicol, or ampicillin be stored at 4 °C and maintain selection?&lt;/p&gt;\\n</td>\n",
       "      <td>cell-culture</td>\n",
       "    </tr>\n",
       "    <tr>\n",
       "      <th>4</th>\n",
       "      <td>5</td>\n",
       "      <td>Is exon order always preserved in splicing?</td>\n",
       "      <td>&lt;p&gt;Are there any cases in which the splicing machinery constructs an mRNA in which the exons are not in the 5' -&gt; 3' genomic order? I'm interested any such cases, whether they involve constitutive or alternative splicing.&lt;/p&gt;\\n</td>\n",
       "      <td>splicing mrna spliceosome introns exons</td>\n",
       "    </tr>\n",
       "  </tbody>\n",
       "</table>\n",
       "</div>"
      ],
      "text/plain": [
       "   id  \\\n",
       "0   1   \n",
       "1   2   \n",
       "2   3   \n",
       "3   4   \n",
       "4   5   \n",
       "\n",
       "                                                                                                          title  \\\n",
       "0  What is the criticality of the ribosome binding site relative to the start codon in prokaryotic translation?   \n",
       "1                                                How is RNAse contamination in RNA based experiments prevented?   \n",
       "2                                                                 Are lymphocyte sizes clustered in two groups?   \n",
       "3                                                    How long does antibiotic-dosed LB maintain good selection?   \n",
       "4                                                                   Is exon order always preserved in splicing?   \n",
       "\n",
       "                                                                                                                                                                                                                                                                                                                                                                                                                                                                                                              content  \\\n",
       "0                                                                                                                                                                                          <p>In prokaryotic translation, how critical for efficient translation is the location of the ribosome binding site, relative to the start codon?</p>\\n\\n<p>Ideally, it is supposed to be -7b away from the start. How about if it is -9 bases away or even more? Will this have an observable effect on translation?</p>\\n   \n",
       "1                                                                                                                                                                                                                                                                             <p>Does anyone have any suggestions to prevent RNAse contamination when working with RNA?</p>\\n\\n<p>I tend to have issues with degradation regardless of whether I use DEPC treated / RNAse free water and filtered pipette tips.</p>\\n   \n",
       "2                                                                                                  <p>Tortora writes in <em>Principles of Anatomy and Physiology</em>:</p>\\n\\n<blockquote>\\n  <p>Lymphocytes may be as small as 6–9 μm in diameter or as large as 10–14 μm in diameter.</p>\\n</blockquote>\\n\\n<p>Those ranges are quite close to each others. Should the above be taken to mean that lymphocytes sizes are clustered in two groups, or is it just a way of saying that lymphocytes are 6-14 μm?</p>\\n   \n",
       "3  <p>Various people in our lab will prepare a liter or so of LB, add kanamycin to 25-37 mg/L for selection, and store it at 4 °C for minipreps or other small cultures (where dosing straight LB with a 1000X stock is troublesome).  Some think using it after more than a week is dubious, but we routinely use kan plates that are 1-2 months old with no ill effect.</p>\\n\\n<p>How long can LB with antibiotic such as kanamycin, chloramphenicol, or ampicillin be stored at 4 °C and maintain selection?</p>\\n   \n",
       "4                                                                                                                                                                                                                                                                                 <p>Are there any cases in which the splicing machinery constructs an mRNA in which the exons are not in the 5' -> 3' genomic order? I'm interested any such cases, whether they involve constitutive or alternative splicing.</p>\\n   \n",
       "\n",
       "                                                   tags  \n",
       "0  ribosome binding-sites translation synthetic-biology  \n",
       "1                                      rna biochemistry  \n",
       "2                    immunology cell-biology hematology  \n",
       "3                                          cell-culture  \n",
       "4               splicing mrna spliceosome introns exons  "
      ]
     },
     "execution_count": 140,
     "metadata": {},
     "output_type": "execute_result"
    }
   ],
   "source": [
    "dataframe_1 = pd.DataFrame()\n",
    "data_list = ['biology', 'cooking', 'crypto', 'diy', 'robotics', 'travel']\n",
    "pd.set_option('max_colwidth', 800)\n",
    "\n",
    "for theme in data_list:\n",
    "    path = \"dados/\" + theme + \".csv\"\n",
    "    x = pd.read_csv(path)\n",
    "    dataframe_1 = dataframe_1.append(x)\n",
    "\n",
    "dataframe_1.head()"
   ]
  },
  {
   "cell_type": "markdown",
   "metadata": {
    "collapsed": true,
    "deletable": true,
    "editable": true
   },
   "source": [
    "### Removing html tags and '\\n' from 'content' column"
   ]
  },
  {
   "cell_type": "code",
   "execution_count": 218,
   "metadata": {
    "collapsed": false
   },
   "outputs": [
    {
     "data": {
      "text/plain": [
       "['In prokaryotic translation  how critical for efficient translation is the location of the ribosome binding site  relative to the start codon   Ideally  it is supposed to be -7b away from the start  How about if it is -9 bases away or even more  Will this have an observable effect on translation  ',\n",
       " 'Does anyone have any suggestions to prevent RNAse contamination when working with RNA   I tend to have issues with degradation regardless of whether I use DEPC treated / RNAse free water and filtered pipette tips  ',\n",
       " 'Tortora writes in Principles of Anatomy and Physiology:     Lymphocytes may be as small as 6–9 μm in diameter or as large as 10–14 μm in diameter    Those ranges are quite close to each others  Should the above be taken to mean that lymphocytes sizes are clustered in two groups  or is it just a way of saying that lymphocytes are 6-14 μm  ',\n",
       " 'Various people in our lab will prepare a liter or so of LB  add kanamycin to 25-37 mg/L for selection  and store it at 4 °C for minipreps or other small cultures (where dosing straight LB with a 1000X stock is troublesome)   Some think using it after more than a week is dubious  but we routinely use kan plates that are 1-2 months old with no ill effect   How long can LB with antibiotic such as kanamycin  chloramphenicol  or ampicillin be stored at 4 °C and maintain selection  ',\n",
       " \"Are there any cases in which the splicing machinery constructs an mRNA in which the exons are not in the 5' -> 3' genomic order  I'm interested any such cases  whether they involve constitutive or alternative splicing  \"]"
      ]
     },
     "execution_count": 218,
     "metadata": {},
     "output_type": "execute_result"
    }
   ],
   "source": [
    "comments = list(dataframe_1['content'])\n",
    "comments_clean = []\n",
    "\n",
    "for comment in comments:\n",
    "    #clean html tags\n",
    "    x = BeautifulSoup(comment, 'html5lib').get_text()\n",
    "    #clean new line operator\n",
    "    for rep in ['\\n','.','?','!',',']:\n",
    "        x = x.replace(rep, ' ')\n",
    "    comments_clean.append(x)\n",
    "    \n",
    "comments_clean[:5]"
   ]
  },
  {
   "cell_type": "markdown",
   "metadata": {},
   "source": [
    "### Removing stop words"
   ]
  },
  {
   "cell_type": "code",
   "execution_count": 221,
   "metadata": {
    "collapsed": false
   },
   "outputs": [],
   "source": [
    "stop = set(stopwords.words('english'))\n",
    "split_comments = []\n",
    "for comment in comments_clean:\n",
    "    x = comment.split()\n",
    "    split_comments.append(x)\n",
    "\n",
    "split_comments_2 = []\n",
    "\n",
    "for comment in split_comments:\n",
    "    word_list = []\n",
    "    for word in comment:\n",
    "        if word.lower() not in stop:\n",
    "            word_list.append(word)\n",
    "    split_comments_2.append(word_list)\n"
   ]
  },
  {
   "cell_type": "code",
   "execution_count": 222,
   "metadata": {
    "collapsed": false
   },
   "outputs": [
    {
     "name": "stdout",
     "output_type": "stream",
     "text": [
      "[['prokaryotic', 'translation', 'critical', 'efficient', 'translation', 'location', 'ribosome', 'binding', 'site', 'relative', 'start', 'codon', 'Ideally', 'supposed', '-7b', 'away', 'start', '-9', 'bases', 'away', 'even', 'observable', 'effect', 'translation'], ['anyone', 'suggestions', 'prevent', 'RNAse', 'contamination', 'working', 'RNA', 'tend', 'issues', 'degradation', 'regardless', 'whether', 'use', 'DEPC', 'treated', '/', 'RNAse', 'free', 'water', 'filtered', 'pipette', 'tips'], ['Tortora', 'writes', 'Principles', 'Anatomy', 'Physiology:', 'Lymphocytes', 'may', 'small', '6–9', 'μm', 'diameter', 'large', '10–14', 'μm', 'diameter', 'ranges', 'quite', 'close', 'others', 'taken', 'mean', 'lymphocytes', 'sizes', 'clustered', 'two', 'groups', 'way', 'saying', 'lymphocytes', '6-14', 'μm'], ['Various', 'people', 'lab', 'prepare', 'liter', 'LB', 'add', 'kanamycin', '25-37', 'mg/L', 'selection', 'store', '4', '°C', 'minipreps', 'small', 'cultures', '(where', 'dosing', 'straight', 'LB', '1000X', 'stock', 'troublesome)', 'think', 'using', 'week', 'dubious', 'routinely', 'use', 'kan', 'plates', '1-2', 'months', 'old', 'ill', 'effect', 'long', 'LB', 'antibiotic', 'kanamycin', 'chloramphenicol', 'ampicillin', 'stored', '4', '°C', 'maintain', 'selection'], ['cases', 'splicing', 'machinery', 'constructs', 'mRNA', 'exons', \"5'\", '->', \"3'\", 'genomic', 'order', \"I'm\", 'interested', 'cases', 'whether', 'involve', 'constitutive', 'alternative', 'splicing']]\n"
     ]
    }
   ],
   "source": [
    "print(split_comments_2[:5])"
   ]
  },
  {
   "cell_type": "code",
   "execution_count": 223,
   "metadata": {
    "collapsed": false
   },
   "outputs": [
    {
     "name": "stdout",
     "output_type": "stream",
     "text": [
      "87000\n"
     ]
    }
   ],
   "source": [
    "print(len(split_comments_2))"
   ]
  },
  {
   "cell_type": "code",
   "execution_count": 224,
   "metadata": {
    "collapsed": false
   },
   "outputs": [
    {
     "data": {
      "text/plain": [
       "(87000, 4)"
      ]
     },
     "execution_count": 224,
     "metadata": {},
     "output_type": "execute_result"
    }
   ],
   "source": [
    "dataframe_1.shape"
   ]
  },
  {
   "cell_type": "code",
   "execution_count": null,
   "metadata": {
    "collapsed": true
   },
   "outputs": [],
   "source": []
  }
 ],
 "metadata": {
  "kernelspec": {
   "display_name": "Python 3",
   "language": "python",
   "name": "python3"
  },
  "language_info": {
   "codemirror_mode": {
    "name": "ipython",
    "version": 3
   },
   "file_extension": ".py",
   "mimetype": "text/x-python",
   "name": "python",
   "nbconvert_exporter": "python",
   "pygments_lexer": "ipython3",
   "version": "3.5.0"
  }
 },
 "nbformat": 4,
 "nbformat_minor": 2
}
