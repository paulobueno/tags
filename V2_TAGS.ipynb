{
 "cells": [
  {
   "cell_type": "markdown",
   "metadata": {
    "deletable": true,
    "editable": true
   },
   "source": [
    "# Transfer Learning on Stack Exchange Tags\n",
    "## Kaggle competition\n",
    "https://www.kaggle.com/c/transfer-learning-on-stack-exchange-tags"
   ]
  },
  {
   "cell_type": "code",
   "execution_count": 1,
   "metadata": {
    "collapsed": true,
    "deletable": true,
    "editable": true
   },
   "outputs": [],
   "source": [
    "import pandas as pd\n",
    "from statistics import mode\n",
    "from bs4 import BeautifulSoup\n",
    "from nltk.corpus import stopwords\n",
    "from matplotlib import pyplot as plt\n",
    "from scipy.cluster.hierarchy import dendrogram, linkage\n",
    "from sklearn.feature_extraction.text import CountVectorizer\n",
    "import numpy as np\n",
    "import re\n",
    "from sklearn.ensemble import RandomForestClassifier"
   ]
  },
  {
   "cell_type": "code",
   "execution_count": 2,
   "metadata": {
    "collapsed": false,
    "deletable": true,
    "editable": true
   },
   "outputs": [
    {
     "data": {
      "text/html": [
       "<div>\n",
       "<table border=\"1\" class=\"dataframe\">\n",
       "  <thead>\n",
       "    <tr style=\"text-align: right;\">\n",
       "      <th></th>\n",
       "      <th>id</th>\n",
       "      <th>title</th>\n",
       "      <th>content</th>\n",
       "      <th>tags</th>\n",
       "      <th>subject</th>\n",
       "    </tr>\n",
       "  </thead>\n",
       "  <tbody>\n",
       "    <tr>\n",
       "      <th>0</th>\n",
       "      <td>1</td>\n",
       "      <td>What is the criticality of the ribosome binding site relative to the start codon in prokaryotic translation?</td>\n",
       "      <td>&lt;p&gt;In prokaryotic translation, how critical for efficient translation is the location of the ribosome binding site, relative to the start codon?&lt;/p&gt;\\n\\n&lt;p&gt;Ideally, it is supposed to be -7b away from the start. How about if it is -9 bases away or even more? Will this have an observable effect on translation?&lt;/p&gt;\\n</td>\n",
       "      <td>ribosome binding-sites translation synthetic-biology</td>\n",
       "      <td>biology</td>\n",
       "    </tr>\n",
       "    <tr>\n",
       "      <th>1</th>\n",
       "      <td>2</td>\n",
       "      <td>How is RNAse contamination in RNA based experiments prevented?</td>\n",
       "      <td>&lt;p&gt;Does anyone have any suggestions to prevent RNAse contamination when working with RNA?&lt;/p&gt;\\n\\n&lt;p&gt;I tend to have issues with degradation regardless of whether I use DEPC treated / RNAse free water and filtered pipette tips.&lt;/p&gt;\\n</td>\n",
       "      <td>rna biochemistry</td>\n",
       "      <td>biology</td>\n",
       "    </tr>\n",
       "    <tr>\n",
       "      <th>2</th>\n",
       "      <td>3</td>\n",
       "      <td>Are lymphocyte sizes clustered in two groups?</td>\n",
       "      <td>&lt;p&gt;Tortora writes in &lt;em&gt;Principles of Anatomy and Physiology&lt;/em&gt;:&lt;/p&gt;\\n\\n&lt;blockquote&gt;\\n  &lt;p&gt;Lymphocytes may be as small as 6–9 μm in diameter or as large as 10–14 μm in diameter.&lt;/p&gt;\\n&lt;/blockquote&gt;\\n\\n&lt;p&gt;Those ranges are quite close to each others. Should the above be taken to mean that lymphocytes sizes are clustered in two groups, or is it just a way of saying that lymphocytes are 6-14 μm?&lt;/p&gt;\\n</td>\n",
       "      <td>immunology cell-biology hematology</td>\n",
       "      <td>biology</td>\n",
       "    </tr>\n",
       "    <tr>\n",
       "      <th>3</th>\n",
       "      <td>4</td>\n",
       "      <td>How long does antibiotic-dosed LB maintain good selection?</td>\n",
       "      <td>&lt;p&gt;Various people in our lab will prepare a liter or so of LB, add kanamycin to 25-37 mg/L for selection, and store it at 4 °C for minipreps or other small cultures (where dosing straight LB with a 1000X stock is troublesome).  Some think using it after more than a week is dubious, but we routinely use kan plates that are 1-2 months old with no ill effect.&lt;/p&gt;\\n\\n&lt;p&gt;How long can LB with antibiotic such as kanamycin, chloramphenicol, or ampicillin be stored at 4 °C and maintain selection?&lt;/p&gt;\\n</td>\n",
       "      <td>cell-culture</td>\n",
       "      <td>biology</td>\n",
       "    </tr>\n",
       "    <tr>\n",
       "      <th>4</th>\n",
       "      <td>5</td>\n",
       "      <td>Is exon order always preserved in splicing?</td>\n",
       "      <td>&lt;p&gt;Are there any cases in which the splicing machinery constructs an mRNA in which the exons are not in the 5' -&gt; 3' genomic order? I'm interested any such cases, whether they involve constitutive or alternative splicing.&lt;/p&gt;\\n</td>\n",
       "      <td>splicing mrna spliceosome introns exons</td>\n",
       "      <td>biology</td>\n",
       "    </tr>\n",
       "    <tr>\n",
       "      <th>5</th>\n",
       "      <td>6</td>\n",
       "      <td>How can I avoid digesting protein-bound DNA?</td>\n",
       "      <td>&lt;p&gt;I'm interested in sequencing and analyzing the bound DNA, and minimizing the amount of unbound DNA that gets sequenced through digestion.&lt;/p&gt;\\n\\n&lt;p&gt;When digesting protein-bound DNA, is &lt;em&gt;all&lt;/em&gt; of the unbound DNA digested? Is there a way to maximize the amount of unbound DNA that is digested?&lt;/p&gt;\\n</td>\n",
       "      <td>dna biochemistry molecular-biology</td>\n",
       "      <td>biology</td>\n",
       "    </tr>\n",
       "    <tr>\n",
       "      <th>6</th>\n",
       "      <td>8</td>\n",
       "      <td>Under what conditions do dendritic spines form?</td>\n",
       "      <td>&lt;p&gt;I'm looking for resources or any information about the formation of dendritic spines and synaptogenesis, especially in relation to how new connections are formed on a daily basis.&lt;/p&gt;\\n\\n&lt;p&gt;Does the electrotonic signalling along the axons and through the spines cause new connections to be made based on some kind of spatial condition (maybe an electrical or chemical attraction), or is there some larger heuristic here?&lt;/p&gt;\\n</td>\n",
       "      <td>neuroscience synapses</td>\n",
       "      <td>biology</td>\n",
       "    </tr>\n",
       "    <tr>\n",
       "      <th>7</th>\n",
       "      <td>9</td>\n",
       "      <td>How should I ship plasmids?</td>\n",
       "      <td>&lt;p&gt;I shipped 10 µL of my vector miniprep to a collaborator in a 1.5 mL eppendorf parafilmed shut and stuffed into a 50 mL conical with some paper-towel padding.  However, something happened on the way and there was nothing (no liquid) in the tube when it arrived.  They didn't make any comments about the microcentrifuge tube popping open or broken parafilm, so nothing crazy happened but something did.&lt;/p&gt;\\n\\n&lt;p&gt;What's the most reliable way to ship plasmids?&lt;/p&gt;\\n</td>\n",
       "      <td>plasmids</td>\n",
       "      <td>biology</td>\n",
       "    </tr>\n",
       "    <tr>\n",
       "      <th>8</th>\n",
       "      <td>10</td>\n",
       "      <td>What is the reason behind choosing the reporter gene when experimenting on your gene of interest?</td>\n",
       "      <td>&lt;p&gt;I noticed within example experiments in class that different reporter genes are chosen to be inserted near your gene of interest to prove whether or not the gene is being expressed. For example, you may insert the gene for fluorescence next to your gene of interest so you know if it is transcribed or not by whether the organism's cells are fluorescent and to what degree they are fluorescing at.&lt;/p&gt;\\n\\n&lt;p&gt;I have noticed in some experiments that have multiple versions that in one case they use the fluorescent gene and in the next a different gene (for example lactose). Both portions of the experiment use almost the exact same steps so why would they not choose the same reporter gene?&lt;/p&gt;\\n</td>\n",
       "      <td>molecular-genetics gene-expression experimental-design</td>\n",
       "      <td>biology</td>\n",
       "    </tr>\n",
       "    <tr>\n",
       "      <th>9</th>\n",
       "      <td>11</td>\n",
       "      <td>How many times did endosymbiosis occur?</td>\n",
       "      <td>&lt;p&gt;According to the endosymbiont theory, mitochondria and chloroplasts originated as bacteria which were engulfed by larger cells. How many times is it estimated that this occurred in the past? Are there any examples of this process being observed directly?&lt;/p&gt;\\n</td>\n",
       "      <td>evolution mitochondria chloroplasts</td>\n",
       "      <td>biology</td>\n",
       "    </tr>\n",
       "  </tbody>\n",
       "</table>\n",
       "</div>"
      ],
      "text/plain": [
       "   id  \\\n",
       "0   1   \n",
       "1   2   \n",
       "2   3   \n",
       "3   4   \n",
       "4   5   \n",
       "5   6   \n",
       "6   8   \n",
       "7   9   \n",
       "8  10   \n",
       "9  11   \n",
       "\n",
       "                                                                                                          title  \\\n",
       "0  What is the criticality of the ribosome binding site relative to the start codon in prokaryotic translation?   \n",
       "1                                                How is RNAse contamination in RNA based experiments prevented?   \n",
       "2                                                                 Are lymphocyte sizes clustered in two groups?   \n",
       "3                                                    How long does antibiotic-dosed LB maintain good selection?   \n",
       "4                                                                   Is exon order always preserved in splicing?   \n",
       "5                                                                  How can I avoid digesting protein-bound DNA?   \n",
       "6                                                               Under what conditions do dendritic spines form?   \n",
       "7                                                                                   How should I ship plasmids?   \n",
       "8             What is the reason behind choosing the reporter gene when experimenting on your gene of interest?   \n",
       "9                                                                       How many times did endosymbiosis occur?   \n",
       "\n",
       "                                                                                                                                                                                                                                                                                                                                                                                                                                                                                                                                                                                                                                                                                                                       content  \\\n",
       "0                                                                                                                                                                                                                                                                                                                                                                                                   <p>In prokaryotic translation, how critical for efficient translation is the location of the ribosome binding site, relative to the start codon?</p>\\n\\n<p>Ideally, it is supposed to be -7b away from the start. How about if it is -9 bases away or even more? Will this have an observable effect on translation?</p>\\n   \n",
       "1                                                                                                                                                                                                                                                                                                                                                                                                                                                                                      <p>Does anyone have any suggestions to prevent RNAse contamination when working with RNA?</p>\\n\\n<p>I tend to have issues with degradation regardless of whether I use DEPC treated / RNAse free water and filtered pipette tips.</p>\\n   \n",
       "2                                                                                                                                                                                                                                                                                                           <p>Tortora writes in <em>Principles of Anatomy and Physiology</em>:</p>\\n\\n<blockquote>\\n  <p>Lymphocytes may be as small as 6–9 μm in diameter or as large as 10–14 μm in diameter.</p>\\n</blockquote>\\n\\n<p>Those ranges are quite close to each others. Should the above be taken to mean that lymphocytes sizes are clustered in two groups, or is it just a way of saying that lymphocytes are 6-14 μm?</p>\\n   \n",
       "3                                                                                                                                                                                                           <p>Various people in our lab will prepare a liter or so of LB, add kanamycin to 25-37 mg/L for selection, and store it at 4 °C for minipreps or other small cultures (where dosing straight LB with a 1000X stock is troublesome).  Some think using it after more than a week is dubious, but we routinely use kan plates that are 1-2 months old with no ill effect.</p>\\n\\n<p>How long can LB with antibiotic such as kanamycin, chloramphenicol, or ampicillin be stored at 4 °C and maintain selection?</p>\\n   \n",
       "4                                                                                                                                                                                                                                                                                                                                                                                                                                                                                          <p>Are there any cases in which the splicing machinery constructs an mRNA in which the exons are not in the 5' -> 3' genomic order? I'm interested any such cases, whether they involve constitutive or alternative splicing.</p>\\n   \n",
       "5                                                                                                                                                                                                                                                                                                                                                                                                           <p>I'm interested in sequencing and analyzing the bound DNA, and minimizing the amount of unbound DNA that gets sequenced through digestion.</p>\\n\\n<p>When digesting protein-bound DNA, is <em>all</em> of the unbound DNA digested? Is there a way to maximize the amount of unbound DNA that is digested?</p>\\n   \n",
       "6                                                                                                                                                                                                                                                                                <p>I'm looking for resources or any information about the formation of dendritic spines and synaptogenesis, especially in relation to how new connections are formed on a daily basis.</p>\\n\\n<p>Does the electrotonic signalling along the axons and through the spines cause new connections to be made based on some kind of spatial condition (maybe an electrical or chemical attraction), or is there some larger heuristic here?</p>\\n   \n",
       "7                                                                                                                                                                                                                                           <p>I shipped 10 µL of my vector miniprep to a collaborator in a 1.5 mL eppendorf parafilmed shut and stuffed into a 50 mL conical with some paper-towel padding.  However, something happened on the way and there was nothing (no liquid) in the tube when it arrived.  They didn't make any comments about the microcentrifuge tube popping open or broken parafilm, so nothing crazy happened but something did.</p>\\n\\n<p>What's the most reliable way to ship plasmids?</p>\\n   \n",
       "8  <p>I noticed within example experiments in class that different reporter genes are chosen to be inserted near your gene of interest to prove whether or not the gene is being expressed. For example, you may insert the gene for fluorescence next to your gene of interest so you know if it is transcribed or not by whether the organism's cells are fluorescent and to what degree they are fluorescing at.</p>\\n\\n<p>I have noticed in some experiments that have multiple versions that in one case they use the fluorescent gene and in the next a different gene (for example lactose). Both portions of the experiment use almost the exact same steps so why would they not choose the same reporter gene?</p>\\n   \n",
       "9                                                                                                                                                                                                                                                                                                                                                                                                                                                      <p>According to the endosymbiont theory, mitochondria and chloroplasts originated as bacteria which were engulfed by larger cells. How many times is it estimated that this occurred in the past? Are there any examples of this process being observed directly?</p>\\n   \n",
       "\n",
       "                                                     tags  subject  \n",
       "0    ribosome binding-sites translation synthetic-biology  biology  \n",
       "1                                        rna biochemistry  biology  \n",
       "2                      immunology cell-biology hematology  biology  \n",
       "3                                            cell-culture  biology  \n",
       "4                 splicing mrna spliceosome introns exons  biology  \n",
       "5                      dna biochemistry molecular-biology  biology  \n",
       "6                                   neuroscience synapses  biology  \n",
       "7                                                plasmids  biology  \n",
       "8  molecular-genetics gene-expression experimental-design  biology  \n",
       "9                     evolution mitochondria chloroplasts  biology  "
      ]
     },
     "execution_count": 2,
     "metadata": {},
     "output_type": "execute_result"
    }
   ],
   "source": [
    "dataframe_1 = pd.DataFrame()\n",
    "data_list = ['biology', 'cooking', 'crypto', 'diy', 'robotics', 'travel']\n",
    "pd.set_option('max_colwidth', 800)\n",
    "\n",
    "for theme in data_list:\n",
    "    path = \"dados/\" + theme + \".csv\"\n",
    "    x = pd.DataFrame(pd.read_csv(path))\n",
    "    x['subject'] = theme\n",
    "    dataframe_1 = dataframe_1.append(x)\n",
    "\n",
    "dataframe_1.head(10)"
   ]
  },
  {
   "cell_type": "code",
   "execution_count": 3,
   "metadata": {
    "collapsed": false,
    "deletable": true,
    "editable": true
   },
   "outputs": [],
   "source": [
    "def words_cleaning(text):\n",
    "    #Remove HTML\n",
    "    x = BeautifulSoup(text, 'html5lib').get_text()\n",
    "    #Remove non letters\n",
    "    x_2 = re.sub(\"[^a-zA-Z]\", \" \", x)\n",
    "    #Lower case and split words\n",
    "    x_3 = x_2.lower().split()\n",
    "    #Remove stop words\n",
    "    stop = set(stopwords.words('english'))\n",
    "    x_4 = [w for w in x_3 if not w in stop]\n",
    "    return(\" \".join(x_4))"
   ]
  },
  {
   "cell_type": "code",
   "execution_count": 4,
   "metadata": {
    "collapsed": false,
    "deletable": true,
    "editable": true
   },
   "outputs": [],
   "source": [
    "dataframe_1['title'] = dataframe_1['title'].apply(lambda x: words_cleaning(x))"
   ]
  },
  {
   "cell_type": "code",
   "execution_count": 5,
   "metadata": {
    "collapsed": false,
    "deletable": true,
    "editable": true
   },
   "outputs": [],
   "source": [
    "dataframe_1['content'] = dataframe_1['content'].apply(lambda x: words_cleaning(x))"
   ]
  },
  {
   "cell_type": "code",
   "execution_count": 6,
   "metadata": {
    "collapsed": false,
    "deletable": true,
    "editable": true
   },
   "outputs": [
    {
     "data": {
      "text/html": [
       "<div>\n",
       "<table border=\"1\" class=\"dataframe\">\n",
       "  <thead>\n",
       "    <tr style=\"text-align: right;\">\n",
       "      <th></th>\n",
       "      <th>id</th>\n",
       "      <th>title</th>\n",
       "      <th>content</th>\n",
       "      <th>tags</th>\n",
       "      <th>subject</th>\n",
       "    </tr>\n",
       "  </thead>\n",
       "  <tbody>\n",
       "    <tr>\n",
       "      <th>0</th>\n",
       "      <td>1</td>\n",
       "      <td>criticality ribosome binding site relative start codon prokaryotic translation</td>\n",
       "      <td>prokaryotic translation critical efficient translation location ribosome binding site relative start codon ideally supposed b away start bases away even observable effect translation</td>\n",
       "      <td>ribosome binding-sites translation synthetic-biology</td>\n",
       "      <td>biology</td>\n",
       "    </tr>\n",
       "    <tr>\n",
       "      <th>1</th>\n",
       "      <td>2</td>\n",
       "      <td>rnase contamination rna based experiments prevented</td>\n",
       "      <td>anyone suggestions prevent rnase contamination working rna tend issues degradation regardless whether use depc treated rnase free water filtered pipette tips</td>\n",
       "      <td>rna biochemistry</td>\n",
       "      <td>biology</td>\n",
       "    </tr>\n",
       "    <tr>\n",
       "      <th>2</th>\n",
       "      <td>3</td>\n",
       "      <td>lymphocyte sizes clustered two groups</td>\n",
       "      <td>tortora writes principles anatomy physiology lymphocytes may small diameter large diameter ranges quite close others taken mean lymphocytes sizes clustered two groups way saying lymphocytes</td>\n",
       "      <td>immunology cell-biology hematology</td>\n",
       "      <td>biology</td>\n",
       "    </tr>\n",
       "    <tr>\n",
       "      <th>3</th>\n",
       "      <td>4</td>\n",
       "      <td>long antibiotic dosed lb maintain good selection</td>\n",
       "      <td>various people lab prepare liter lb add kanamycin mg l selection store c minipreps small cultures dosing straight lb x stock troublesome think using week dubious routinely use kan plates months old ill effect long lb antibiotic kanamycin chloramphenicol ampicillin stored c maintain selection</td>\n",
       "      <td>cell-culture</td>\n",
       "      <td>biology</td>\n",
       "    </tr>\n",
       "    <tr>\n",
       "      <th>4</th>\n",
       "      <td>5</td>\n",
       "      <td>exon order always preserved splicing</td>\n",
       "      <td>cases splicing machinery constructs mrna exons genomic order interested cases whether involve constitutive alternative splicing</td>\n",
       "      <td>splicing mrna spliceosome introns exons</td>\n",
       "      <td>biology</td>\n",
       "    </tr>\n",
       "  </tbody>\n",
       "</table>\n",
       "</div>"
      ],
      "text/plain": [
       "   id  \\\n",
       "0   1   \n",
       "1   2   \n",
       "2   3   \n",
       "3   4   \n",
       "4   5   \n",
       "\n",
       "                                                                            title  \\\n",
       "0  criticality ribosome binding site relative start codon prokaryotic translation   \n",
       "1                             rnase contamination rna based experiments prevented   \n",
       "2                                           lymphocyte sizes clustered two groups   \n",
       "3                                long antibiotic dosed lb maintain good selection   \n",
       "4                                            exon order always preserved splicing   \n",
       "\n",
       "                                                                                                                                                                                                                                                                                                content  \\\n",
       "0                                                                                                                prokaryotic translation critical efficient translation location ribosome binding site relative start codon ideally supposed b away start bases away even observable effect translation   \n",
       "1                                                                                                                                         anyone suggestions prevent rnase contamination working rna tend issues degradation regardless whether use depc treated rnase free water filtered pipette tips   \n",
       "2                                                                                                         tortora writes principles anatomy physiology lymphocytes may small diameter large diameter ranges quite close others taken mean lymphocytes sizes clustered two groups way saying lymphocytes   \n",
       "3  various people lab prepare liter lb add kanamycin mg l selection store c minipreps small cultures dosing straight lb x stock troublesome think using week dubious routinely use kan plates months old ill effect long lb antibiotic kanamycin chloramphenicol ampicillin stored c maintain selection   \n",
       "4                                                                                                                                                                       cases splicing machinery constructs mrna exons genomic order interested cases whether involve constitutive alternative splicing   \n",
       "\n",
       "                                                   tags  subject  \n",
       "0  ribosome binding-sites translation synthetic-biology  biology  \n",
       "1                                      rna biochemistry  biology  \n",
       "2                    immunology cell-biology hematology  biology  \n",
       "3                                          cell-culture  biology  \n",
       "4               splicing mrna spliceosome introns exons  biology  "
      ]
     },
     "execution_count": 6,
     "metadata": {},
     "output_type": "execute_result"
    }
   ],
   "source": [
    "dataframe_1.head()"
   ]
  },
  {
   "cell_type": "code",
   "execution_count": 7,
   "metadata": {
    "collapsed": true,
    "deletable": true,
    "editable": true
   },
   "outputs": [],
   "source": [
    "vectorizer = CountVectorizer(analyzer = \"word\",   \\\n",
    "                             tokenizer = None,    \\\n",
    "                             preprocessor = None, \\\n",
    "                             stop_words = None,   \\\n",
    "                             max_features = 5000) "
   ]
  },
  {
   "cell_type": "code",
   "execution_count": 8,
   "metadata": {
    "collapsed": false,
    "deletable": true,
    "editable": true
   },
   "outputs": [
    {
     "data": {
      "text/plain": [
       "['criticality ribosome binding site relative start codon prokaryotic translationprokaryotic translation critical efficient translation location ribosome binding site relative start codon ideally supposed b away start bases away even observable effect translation',\n",
       " 'rnase contamination rna based experiments preventedanyone suggestions prevent rnase contamination working rna tend issues degradation regardless whether use depc treated rnase free water filtered pipette tips',\n",
       " 'lymphocyte sizes clustered two groupstortora writes principles anatomy physiology lymphocytes may small diameter large diameter ranges quite close others taken mean lymphocytes sizes clustered two groups way saying lymphocytes',\n",
       " 'long antibiotic dosed lb maintain good selectionvarious people lab prepare liter lb add kanamycin mg l selection store c minipreps small cultures dosing straight lb x stock troublesome think using week dubious routinely use kan plates months old ill effect long lb antibiotic kanamycin chloramphenicol ampicillin stored c maintain selection',\n",
       " 'exon order always preserved splicingcases splicing machinery constructs mrna exons genomic order interested cases whether involve constitutive alternative splicing']"
      ]
     },
     "execution_count": 8,
     "metadata": {},
     "output_type": "execute_result"
    }
   ],
   "source": [
    "train_words = list(dataframe_1['title'] + dataframe_1['content'])\n",
    "train_words[:5]"
   ]
  },
  {
   "cell_type": "code",
   "execution_count": 9,
   "metadata": {
    "collapsed": false,
    "deletable": true,
    "editable": true
   },
   "outputs": [],
   "source": [
    "train_data_features = vectorizer.fit_transform(train_words)\n",
    "train_data_features = train_data_features.toarray()"
   ]
  },
  {
   "cell_type": "code",
   "execution_count": 10,
   "metadata": {
    "collapsed": false,
    "deletable": true,
    "editable": true
   },
   "outputs": [
    {
     "data": {
      "text/plain": [
       "(87000, 5000)"
      ]
     },
     "execution_count": 10,
     "metadata": {},
     "output_type": "execute_result"
    }
   ],
   "source": [
    "train_data_features.shape"
   ]
  },
  {
   "cell_type": "code",
   "execution_count": 11,
   "metadata": {
    "collapsed": false,
    "deletable": true,
    "editable": true
   },
   "outputs": [
    {
     "name": "stdout",
     "output_type": "stream",
     "text": [
      "['aa', 'ab', 'abc', 'ability', 'able', 'abroad', 'absence', 'absolute', 'absolutely', 'absorb', 'absorbed', 'ac', 'acc', 'acceleration', 'accelerometer', 'accept', 'acceptable', 'accepted', 'access', 'accessible', 'accidentally', 'accommodate', 'accommodation', 'accomplish', 'according', 'account', 'accounts', 'accuracy', 'accurate', 'accurately', 'achieve', 'achieved', 'acid', 'acidic', 'acids', 'across', 'acrylic', 'act', 'acting', 'action', 'activate', 'activated', 'activation', 'active', 'activities', 'activity', 'acts', 'actual', 'actually', 'ad', 'adapter', 'adaptive', 'add', 'added', 'adding', 'addition', 'additional', 'additionally', 'additive', 'address', 'adds', 'adequate', 'adhesive', 'adjacent', 'adjust', 'adjustable', 'adjusted', 'adult', 'adults', 'advance', 'advanced', 'advantage', 'advantages', 'adversary', 'advice', 'advise', 'advised', 'ae', 'aes', 'afci', 'affect', 'affected', 'affects', 'afford', 'affordable', 'afraid', 'africa', 'african', 'afternoon', 'afterwards', 'agar', 'age', 'agency', 'agent', 'agents', 'aging', 'ago', 'agree', 'agreement', 'ahead']\n"
     ]
    }
   ],
   "source": [
    "vocab = vectorizer.get_feature_names()\n",
    "print(vocab[:100])"
   ]
  },
  {
   "cell_type": "code",
   "execution_count": 40,
   "metadata": {
    "collapsed": true,
    "deletable": true,
    "editable": true
   },
   "outputs": [],
   "source": [
    "forest = RandomForestClassifier(n_estimators = 10, max_depth=5) \n",
    "forest = forest.fit( train_data_features, dataframe_1['tags'] )"
   ]
  },
  {
   "cell_type": "code",
   "execution_count": 13,
   "metadata": {
    "collapsed": false,
    "deletable": true,
    "editable": true
   },
   "outputs": [
    {
     "data": {
      "text/html": [
       "<div>\n",
       "<table border=\"1\" class=\"dataframe\">\n",
       "  <thead>\n",
       "    <tr style=\"text-align: right;\">\n",
       "      <th></th>\n",
       "      <th>id</th>\n",
       "      <th>title</th>\n",
       "      <th>content</th>\n",
       "    </tr>\n",
       "  </thead>\n",
       "  <tbody>\n",
       "    <tr>\n",
       "      <th>0</th>\n",
       "      <td>1</td>\n",
       "      <td>What is spin as it relates to subatomic particles?</td>\n",
       "      <td>&lt;p&gt;I often hear about subatomic particles having a property called \"spin\" but also that it doesn't actually relate to spinning about an axis like you would think. Which particles have spin? What does spin mean if not an actual spinning motion?&lt;/p&gt;\\n</td>\n",
       "    </tr>\n",
       "    <tr>\n",
       "      <th>1</th>\n",
       "      <td>2</td>\n",
       "      <td>What is your simplest explanation of the string theory?</td>\n",
       "      <td>&lt;p&gt;How would you explain string theory to non physicists such as myself? I'm specially interested on how plausible is it and what is needed to successfully prove it?&lt;/p&gt;\\n</td>\n",
       "    </tr>\n",
       "    <tr>\n",
       "      <th>2</th>\n",
       "      <td>3</td>\n",
       "      <td>Lie theory, Representations and particle physics</td>\n",
       "      <td>&lt;p&gt;This is a question that has been posted at many different forums, I thought maybe someone here would have a better or more conceptual answer than I have seen before:&lt;/p&gt;\\n\\n&lt;p&gt;Why do physicists care about representations of Lie groups? For myself, when I think about a representation that means there is some sort of group acting on a vector space, what is the vector space that this Lie group is acting on? &lt;/p&gt;\\n\\n&lt;p&gt;Or is it that certain things have to be invariant under a group action?\\nmaybe this is a dumb question, but i thought it might be a good start...&lt;/p&gt;\\n\\n&lt;p&gt;To clarify, I am specifically thinking of the symmetry groups that people think about in relation to the standard model. I do not care why it might be a certain group, but more how we see the group acting, what is it a...</td>\n",
       "    </tr>\n",
       "    <tr>\n",
       "      <th>3</th>\n",
       "      <td>7</td>\n",
       "      <td>Will Determinism be ever possible?</td>\n",
       "      <td>&lt;p&gt;What are the main problems that we need to solve to prove Laplace's determinism correct and overcome the Uncertainty principle?&lt;/p&gt;\\n</td>\n",
       "    </tr>\n",
       "    <tr>\n",
       "      <th>4</th>\n",
       "      <td>9</td>\n",
       "      <td>Hamilton's Principle</td>\n",
       "      <td>&lt;p&gt;Hamilton's principle states that a dynamic system always follows a path such that its action integral is stationary (that is, maximum or minimum).&lt;/p&gt;\\n\\n&lt;p&gt;Why should the action integral be stationary? On what basis did Hamilton state this principle?&lt;/p&gt;\\n</td>\n",
       "    </tr>\n",
       "  </tbody>\n",
       "</table>\n",
       "</div>"
      ],
      "text/plain": [
       "   id                                                    title  \\\n",
       "0   1       What is spin as it relates to subatomic particles?   \n",
       "1   2  What is your simplest explanation of the string theory?   \n",
       "2   3         Lie theory, Representations and particle physics   \n",
       "3   7                       Will Determinism be ever possible?   \n",
       "4   9                                     Hamilton's Principle   \n",
       "\n",
       "                                                                                                                                                                                                                                                                                                                                                                                                                                                                                                                                                                                                                                                                                                                                                                                                                           content  \n",
       "0                                                                                                                                                                                                                                                                                                                                                                                                                                                                                                                                                                        <p>I often hear about subatomic particles having a property called \"spin\" but also that it doesn't actually relate to spinning about an axis like you would think. Which particles have spin? What does spin mean if not an actual spinning motion?</p>\\n  \n",
       "1                                                                                                                                                                                                                                                                                                                                                                                                                                                                                                                                                                                                                                                      <p>How would you explain string theory to non physicists such as myself? I'm specially interested on how plausible is it and what is needed to successfully prove it?</p>\\n  \n",
       "2  <p>This is a question that has been posted at many different forums, I thought maybe someone here would have a better or more conceptual answer than I have seen before:</p>\\n\\n<p>Why do physicists care about representations of Lie groups? For myself, when I think about a representation that means there is some sort of group acting on a vector space, what is the vector space that this Lie group is acting on? </p>\\n\\n<p>Or is it that certain things have to be invariant under a group action?\\nmaybe this is a dumb question, but i thought it might be a good start...</p>\\n\\n<p>To clarify, I am specifically thinking of the symmetry groups that people think about in relation to the standard model. I do not care why it might be a certain group, but more how we see the group acting, what is it a...  \n",
       "3                                                                                                                                                                                                                                                                                                                                                                                                                                                                                                                                                                                                                                                                                         <p>What are the main problems that we need to solve to prove Laplace's determinism correct and overcome the Uncertainty principle?</p>\\n  \n",
       "4                                                                                                                                                                                                                                                                                                                                                                                                                                                                                                                                                             <p>Hamilton's principle states that a dynamic system always follows a path such that its action integral is stationary (that is, maximum or minimum).</p>\\n\\n<p>Why should the action integral be stationary? On what basis did Hamilton state this principle?</p>\\n  "
      ]
     },
     "execution_count": 13,
     "metadata": {},
     "output_type": "execute_result"
    }
   ],
   "source": [
    "dataframe_test = pd.read_csv('dados/test.csv')\n",
    "dataframe_test.head()"
   ]
  },
  {
   "cell_type": "code",
   "execution_count": 14,
   "metadata": {
    "collapsed": false,
    "deletable": true,
    "editable": true
   },
   "outputs": [
    {
     "data": {
      "text/html": [
       "<div>\n",
       "<table border=\"1\" class=\"dataframe\">\n",
       "  <thead>\n",
       "    <tr style=\"text-align: right;\">\n",
       "      <th></th>\n",
       "      <th>id</th>\n",
       "      <th>title</th>\n",
       "      <th>content</th>\n",
       "    </tr>\n",
       "  </thead>\n",
       "  <tbody>\n",
       "    <tr>\n",
       "      <th>0</th>\n",
       "      <td>1</td>\n",
       "      <td>spin relates subatomic particles</td>\n",
       "      <td>often hear subatomic particles property called spin also actually relate spinning axis like would think particles spin spin mean actual spinning motion</td>\n",
       "    </tr>\n",
       "    <tr>\n",
       "      <th>1</th>\n",
       "      <td>2</td>\n",
       "      <td>simplest explanation string theory</td>\n",
       "      <td>would explain string theory non physicists specially interested plausible needed successfully prove</td>\n",
       "    </tr>\n",
       "    <tr>\n",
       "      <th>2</th>\n",
       "      <td>3</td>\n",
       "      <td>lie theory representations particle physics</td>\n",
       "      <td>question posted many different forums thought maybe someone would better conceptual answer seen physicists care representations lie groups think representation means sort group acting vector space vector space lie group acting certain things invariant group action maybe dumb question thought might good start clarify specifically thinking symmetry groups people think relation standard model care might certain group see group acting acting etc</td>\n",
       "    </tr>\n",
       "    <tr>\n",
       "      <th>3</th>\n",
       "      <td>7</td>\n",
       "      <td>determinism ever possible</td>\n",
       "      <td>main problems need solve prove laplace determinism correct overcome uncertainty principle</td>\n",
       "    </tr>\n",
       "    <tr>\n",
       "      <th>4</th>\n",
       "      <td>9</td>\n",
       "      <td>hamilton principle</td>\n",
       "      <td>hamilton principle states dynamic system always follows path action integral stationary maximum minimum action integral stationary basis hamilton state principle</td>\n",
       "    </tr>\n",
       "  </tbody>\n",
       "</table>\n",
       "</div>"
      ],
      "text/plain": [
       "   id                                        title  \\\n",
       "0   1             spin relates subatomic particles   \n",
       "1   2           simplest explanation string theory   \n",
       "2   3  lie theory representations particle physics   \n",
       "3   7                    determinism ever possible   \n",
       "4   9                           hamilton principle   \n",
       "\n",
       "                                                                                                                                                                                                                                                                                                                                                                                                                                                         content  \n",
       "0                                                                                                                                                                                                                                                                                                        often hear subatomic particles property called spin also actually relate spinning axis like would think particles spin spin mean actual spinning motion  \n",
       "1                                                                                                                                                                                                                                                                                                                                                            would explain string theory non physicists specially interested plausible needed successfully prove  \n",
       "2  question posted many different forums thought maybe someone would better conceptual answer seen physicists care representations lie groups think representation means sort group acting vector space vector space lie group acting certain things invariant group action maybe dumb question thought might good start clarify specifically thinking symmetry groups people think relation standard model care might certain group see group acting acting etc  \n",
       "3                                                                                                                                                                                                                                                                                                                                                                      main problems need solve prove laplace determinism correct overcome uncertainty principle  \n",
       "4                                                                                                                                                                                                                                                                                              hamilton principle states dynamic system always follows path action integral stationary maximum minimum action integral stationary basis hamilton state principle  "
      ]
     },
     "execution_count": 14,
     "metadata": {},
     "output_type": "execute_result"
    }
   ],
   "source": [
    "dataframe_test['title'] = dataframe_test['title'].apply(lambda x: words_cleaning(x))\n",
    "dataframe_test['content'] = dataframe_test['content'].apply(lambda x: words_cleaning(x))\n",
    "dataframe_test.head()"
   ]
  },
  {
   "cell_type": "code",
   "execution_count": 15,
   "metadata": {
    "collapsed": false,
    "deletable": true,
    "editable": true
   },
   "outputs": [
    {
     "data": {
      "text/plain": [
       "['spin relates subatomic particlesoften hear subatomic particles property called spin also actually relate spinning axis like would think particles spin spin mean actual spinning motion',\n",
       " 'simplest explanation string theorywould explain string theory non physicists specially interested plausible needed successfully prove',\n",
       " 'lie theory representations particle physicsquestion posted many different forums thought maybe someone would better conceptual answer seen physicists care representations lie groups think representation means sort group acting vector space vector space lie group acting certain things invariant group action maybe dumb question thought might good start clarify specifically thinking symmetry groups people think relation standard model care might certain group see group acting acting etc',\n",
       " 'determinism ever possiblemain problems need solve prove laplace determinism correct overcome uncertainty principle',\n",
       " 'hamilton principlehamilton principle states dynamic system always follows path action integral stationary maximum minimum action integral stationary basis hamilton state principle']"
      ]
     },
     "execution_count": 15,
     "metadata": {},
     "output_type": "execute_result"
    }
   ],
   "source": [
    "test_words = list(dataframe_test['title'] + dataframe_test['content'])\n",
    "test_words[:5]"
   ]
  },
  {
   "cell_type": "code",
   "execution_count": 16,
   "metadata": {
    "collapsed": false,
    "deletable": true,
    "editable": true
   },
   "outputs": [],
   "source": [
    "test_data_features = vectorizer.transform(test_words)\n",
    "test_data_features = test_data_features.toarray()"
   ]
  },
  {
   "cell_type": "code",
   "execution_count": 24,
   "metadata": {
    "collapsed": false
   },
   "outputs": [
    {
     "data": {
      "text/plain": [
       "(81926, 5000)"
      ]
     },
     "execution_count": 24,
     "metadata": {},
     "output_type": "execute_result"
    }
   ],
   "source": [
    "test_data_features.shape"
   ]
  },
  {
   "cell_type": "code",
   "execution_count": 38,
   "metadata": {
    "collapsed": true
   },
   "outputs": [],
   "source": [
    "output = pd.DataFrame( columns=['id', 'tags'] )\n",
    "output.to_csv( \"submit_3.csv\", index=False, quoting=1)"
   ]
  },
  {
   "cell_type": "code",
   "execution_count": 34,
   "metadata": {
    "collapsed": false
   },
   "outputs": [
    {
     "data": {
      "text/plain": [
       "array([[0, 0, 0, ..., 0, 0, 0]])"
      ]
     },
     "execution_count": 34,
     "metadata": {},
     "output_type": "execute_result"
    }
   ],
   "source": [
    "test_data_features[1].reshape(1,-1)"
   ]
  },
  {
   "cell_type": "code",
   "execution_count": 39,
   "metadata": {
    "collapsed": false,
    "deletable": true,
    "editable": true
   },
   "outputs": [],
   "source": [
    "with open('submit_3.csv', 'a') as f:\n",
    "    for i in range(test_data_features.shape[0]):\n",
    "        result = forest.predict(test_data_features[i].reshape(1,-1))  \n",
    "        output = pd.DataFrame( data={\"id\":dataframe_test[\"id\"][i], \"tags\":result} )\n",
    "        output.to_csv(f, index=False, quoting=1, header=False)"
   ]
  },
  {
   "cell_type": "code",
   "execution_count": 42,
   "metadata": {
    "collapsed": true,
    "deletable": true,
    "editable": true
   },
   "outputs": [],
   "source": [
    "forest = RandomForestClassifier(n_estimators = 50, max_depth=10)\n",
    "forest = forest.fit( train_data_features, dataframe_1['tags'] )"
   ]
  },
  {
   "cell_type": "code",
   "execution_count": 43,
   "metadata": {
    "collapsed": false
   },
   "outputs": [],
   "source": [
    "output = pd.DataFrame( columns=['id', 'tags'] )\n",
    "output.to_csv( \"submit_4.csv\", index=False, quoting=1)\n",
    "with open('submit_4.csv', 'a') as f:\n",
    "    for i in range(test_data_features.shape[0]):\n",
    "        result = forest.predict(test_data_features[i].reshape(1,-1))  \n",
    "        output = pd.DataFrame( data={\"id\":dataframe_test[\"id\"][i], \"tags\":result} )\n",
    "        output.to_csv(f, index=False, quoting=1, header=False)"
   ]
  },
  {
   "cell_type": "code",
   "execution_count": 44,
   "metadata": {
    "collapsed": true
   },
   "outputs": [],
   "source": [
    "forest = RandomForestClassifier(n_estimators = 25, max_depth=15) \n",
    "forest = forest.fit( train_data_features, dataframe_1['tags'] )\n",
    "output = pd.DataFrame( columns=['id', 'tags'] )\n",
    "output.to_csv( \"submit_5.csv\", index=False, quoting=1)\n",
    "with open('submit_5.csv', 'a') as f:\n",
    "    for i in range(test_data_features.shape[0]):\n",
    "        result = forest.predict(test_data_features[i].reshape(1,-1))  \n",
    "        output = pd.DataFrame( data={\"id\":dataframe_test[\"id\"][i], \"tags\":result} )\n",
    "        output.to_csv(f, index=False, quoting=1, header=False)"
   ]
  },
  {
   "cell_type": "code",
   "execution_count": null,
   "metadata": {
    "collapsed": true
   },
   "outputs": [],
   "source": []
  }
 ],
 "metadata": {
  "kernelspec": {
   "display_name": "Python 3",
   "language": "python",
   "name": "python3"
  },
  "language_info": {
   "codemirror_mode": {
    "name": "ipython",
    "version": 3
   },
   "file_extension": ".py",
   "mimetype": "text/x-python",
   "name": "python",
   "nbconvert_exporter": "python",
   "pygments_lexer": "ipython3",
   "version": "3.5.0"
  }
 },
 "nbformat": 4,
 "nbformat_minor": 2
}
